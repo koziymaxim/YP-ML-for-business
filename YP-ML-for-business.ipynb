{
 "cells": [
  {
   "cell_type": "markdown",
   "metadata": {},
   "source": [
    "# Проект: Выбор локации для скважины"
   ]
  },
  {
   "cell_type": "markdown",
   "metadata": {},
   "source": [
    "## Введение"
   ]
  },
  {
   "cell_type": "markdown",
   "metadata": {},
   "source": [
    "\n",
    "_____\n",
    "    \n",
    "**Название проекта**\n",
    "\n",
    "Выбор локации для скважины\n",
    "_____\n",
    "**Описание исследования.**\n",
    "\n",
    "Предоставлены пробы нефти в трёх регионах. Характеристики для каждой скважины в регионе уже известны. Необходимо построить модель для определения региона, где добыча принесёт наибольшую прибыль. И  проанализировать возможную прибыль и риски техникой Bootstrap\n",
    "_____\n",
    "\n",
    "    \n",
    "_____\n",
    "**Задачи исследования.**\n",
    "\n",
    "1. Загрузка и предобработка данных, проверка на наличие пропусков и ошибок.\n",
    "2. Проведение исследовательского анализа данных и построение визуализаций.\n",
    "3. Подготовка данных и обучение моделей.\n",
    "4. Расчёт прибыли и рисков.\n",
    "5. Вывод.\n",
    "_____\n",
    "**Исходные данные.**\n",
    "    \n",
    "1. geo_data_0.csv — содержит данные о скважинах первого региона.\n",
    "2. geo_data_1.csv — содержит данные о скважинах второго региона.\n",
    "3. geo_data_2.csv — содержит данные о скважинах третьего региона.\n",
    "______\n",
    "\n",
    "**Данное исследование разделим на несколько частей.**\n",
    "\n",
    "***Часть 1. Загрузка данных:***\n",
    "1. Загрузка данных из файлов \n",
    "2. Получение общей информации о каждом датасете.\n",
    "\n",
    "***Часть 2. Предобработка данных:***\n",
    "1. Проверка данных на наличие пропусков, дубликатов и ошибок.\n",
    "2. Приведение данных к нужным типам и устранение пропусков.\n",
    "\n",
    "***Часть 3. Исследовательский анализ данных (EDA):***\n",
    "1. Проведение статистического анализа признаков.\n",
    "2. Построение графиков для изучения распределений признаков и взаимосвязей между ними.\n",
    "\n",
    "***Часть 4. Проведение корреляционного анализ признаков:***\n",
    "1. Корреляционный анализ и изучение мультиколлинеарности признаков.\n",
    "\n",
    "***Часть 5. Подготовка данных и обучение модели:***\n",
    "1. Разделение таблиц на выборки\n",
    "2. Обучение моделей прогнозирования.\n",
    "3. Оценка качества модели на основе метрик. \n",
    "\n",
    "***Часть 6. Подготовка к расчёту прибыли:***\n",
    "1. Ключевые значения для расчётов сохранить в отдельных переменных.\n",
    "2. Рассчитать достаточный объём сырья для безубыточной разработки новой скважины.\n",
    "3. Сравнить полученный объём сырья со средним запасом в каждом регионе. \n",
    "   \n",
    "***Часть 7. Расчёт прибыли:***\n",
    "1. Выбрать скважины с максимальными значениями предсказаний. \n",
    "2. Просуммировать целевое значение объёма сырья, соответствующее этим предсказаниям.\n",
    "3. Рассчитать прибыль для полученного объёма сырья.\n",
    "\n",
    "***Часть 8. Расчёт прибыли:***\n",
    " 1. Применить технику Bootstrap с 1000 выборок, чтобы найти распределение прибыли.\n",
    " 2. Найти среднюю прибыль, 95%-й доверительный интервал и риск убытков.\n",
    "\n",
    "***Часть 9. Общий вывод:***\n",
    "1. Описание этапов работы.\n",
    "2. Выводы по анализу прибыли и рискам.\n"
   ]
  },
  {
   "cell_type": "markdown",
   "metadata": {},
   "source": [
    "##  Загрузка данных"
   ]
  },
  {
   "cell_type": "markdown",
   "metadata": {},
   "source": [
    "___\n",
    "    Импортируем все необходимые нам библиотеки\n",
    "---"
   ]
  },
  {
   "cell_type": "code",
   "execution_count": 1,
   "metadata": {
    "execution": {
     "iopub.execute_input": "2025-03-26T16:26:32.395183Z",
     "iopub.status.busy": "2025-03-26T16:26:32.394948Z",
     "iopub.status.idle": "2025-03-26T16:26:39.155783Z",
     "shell.execute_reply": "2025-03-26T16:26:39.154401Z",
     "shell.execute_reply.started": "2025-03-26T16:26:32.395155Z"
    }
   },
   "outputs": [
    {
     "name": "stdout",
     "output_type": "stream",
     "text": [
      "Note: you may need to restart the kernel to use updated packages.\n",
      "Note: you may need to restart the kernel to use updated packages.\n"
     ]
    }
   ],
   "source": [
    "%pip install phik -q\n",
    "%pip install shap -q"
   ]
  },
  {
   "cell_type": "code",
   "execution_count": 2,
   "metadata": {
    "execution": {
     "iopub.execute_input": "2025-03-26T16:26:39.157210Z",
     "iopub.status.busy": "2025-03-26T16:26:39.156845Z",
     "iopub.status.idle": "2025-03-26T16:26:42.018989Z",
     "shell.execute_reply": "2025-03-26T16:26:42.018016Z",
     "shell.execute_reply.started": "2025-03-26T16:26:39.157176Z"
    }
   },
   "outputs": [],
   "source": [
    "import pandas as pd\n",
    "import numpy as np\n",
    "import matplotlib.pyplot as plt\n",
    "import seaborn as sns\n",
    "import phik\n",
    "import shap\n",
    "\n",
    "from scipy import stats as st\n",
    "from sklearn.model_selection import train_test_split, RandomizedSearchCV\n",
    "from sklearn.linear_model import LinearRegression\n",
    "from sklearn.preprocessing import StandardScaler, StandardScaler, MinMaxScaler\n",
    "from sklearn.metrics import mean_squared_error\n",
    "from sklearn.pipeline import Pipeline\n",
    "from sklearn.compose import ColumnTransformer\n",
    "from sklearn.model_selection import KFold\n",
    "\n",
    "plt.rcParams[\"figure.figsize\"] = (9,6)"
   ]
  },
  {
   "cell_type": "markdown",
   "metadata": {},
   "source": [
    "___\n",
    "    Загрузим данные\n",
    "___"
   ]
  },
  {
   "cell_type": "code",
   "execution_count": 3,
   "metadata": {
    "execution": {
     "iopub.execute_input": "2025-03-26T16:26:42.020475Z",
     "iopub.status.busy": "2025-03-26T16:26:42.019899Z",
     "iopub.status.idle": "2025-03-26T16:26:42.311512Z",
     "shell.execute_reply": "2025-03-26T16:26:42.310620Z",
     "shell.execute_reply.started": "2025-03-26T16:26:42.020445Z"
    }
   },
   "outputs": [],
   "source": [
    "try:\n",
    "    df_geo_data_0 = pd.read_csv(\"/kaggle/input/geo-data/geo_data_0.csv\")\n",
    "    df_geo_data_1 = pd.read_csv(\"/kaggle/input/geo-data/geo_data_1.csv\")\n",
    "    df_geo_data_2 = pd.read_csv(\"/kaggle/input/geo-data/geo_data_2.csv\")\n",
    "\n",
    "except:\n",
    "    df_geo_data_0 = pd.read_csv(\"https://code.s3.yandex.net/datasets/geo_data_0.csv\")\n",
    "    df_geo_data_1 = pd.read_csv(\"https://code.s3.yandex.net/datasets/geo_data_1.csv\")\n",
    "    df_geo_data_2 = pd.read_csv(\"https://code.s3.yandex.net/datasets/geo_data_2.csv\")"
   ]
  },
  {
   "cell_type": "markdown",
   "metadata": {},
   "source": [
    "---\n",
    "    Изучим предоставленные данные\n",
    "---"
   ]
  },
  {
   "cell_type": "code",
   "execution_count": 4,
   "metadata": {
    "execution": {
     "iopub.execute_input": "2025-03-26T16:26:42.313041Z",
     "iopub.status.busy": "2025-03-26T16:26:42.312685Z",
     "iopub.status.idle": "2025-03-26T16:26:42.327728Z",
     "shell.execute_reply": "2025-03-26T16:26:42.326143Z",
     "shell.execute_reply.started": "2025-03-26T16:26:42.313016Z"
    }
   },
   "outputs": [
    {
     "data": {
      "text/html": [
       "<div>\n",
       "<style scoped>\n",
       "    .dataframe tbody tr th:only-of-type {\n",
       "        vertical-align: middle;\n",
       "    }\n",
       "\n",
       "    .dataframe tbody tr th {\n",
       "        vertical-align: top;\n",
       "    }\n",
       "\n",
       "    .dataframe thead th {\n",
       "        text-align: right;\n",
       "    }\n",
       "</style>\n",
       "<table border=\"1\" class=\"dataframe\">\n",
       "  <thead>\n",
       "    <tr style=\"text-align: right;\">\n",
       "      <th></th>\n",
       "      <th>id</th>\n",
       "      <th>f0</th>\n",
       "      <th>f1</th>\n",
       "      <th>f2</th>\n",
       "      <th>product</th>\n",
       "    </tr>\n",
       "  </thead>\n",
       "  <tbody>\n",
       "    <tr>\n",
       "      <th>0</th>\n",
       "      <td>txEyH</td>\n",
       "      <td>0.705745</td>\n",
       "      <td>-0.497823</td>\n",
       "      <td>1.221170</td>\n",
       "      <td>105.280062</td>\n",
       "    </tr>\n",
       "    <tr>\n",
       "      <th>1</th>\n",
       "      <td>2acmU</td>\n",
       "      <td>1.334711</td>\n",
       "      <td>-0.340164</td>\n",
       "      <td>4.365080</td>\n",
       "      <td>73.037750</td>\n",
       "    </tr>\n",
       "    <tr>\n",
       "      <th>2</th>\n",
       "      <td>409Wp</td>\n",
       "      <td>1.022732</td>\n",
       "      <td>0.151990</td>\n",
       "      <td>1.419926</td>\n",
       "      <td>85.265647</td>\n",
       "    </tr>\n",
       "    <tr>\n",
       "      <th>3</th>\n",
       "      <td>iJLyR</td>\n",
       "      <td>-0.032172</td>\n",
       "      <td>0.139033</td>\n",
       "      <td>2.978566</td>\n",
       "      <td>168.620776</td>\n",
       "    </tr>\n",
       "    <tr>\n",
       "      <th>4</th>\n",
       "      <td>Xdl7t</td>\n",
       "      <td>1.988431</td>\n",
       "      <td>0.155413</td>\n",
       "      <td>4.751769</td>\n",
       "      <td>154.036647</td>\n",
       "    </tr>\n",
       "  </tbody>\n",
       "</table>\n",
       "</div>"
      ],
      "text/plain": [
       "      id        f0        f1        f2     product\n",
       "0  txEyH  0.705745 -0.497823  1.221170  105.280062\n",
       "1  2acmU  1.334711 -0.340164  4.365080   73.037750\n",
       "2  409Wp  1.022732  0.151990  1.419926   85.265647\n",
       "3  iJLyR -0.032172  0.139033  2.978566  168.620776\n",
       "4  Xdl7t  1.988431  0.155413  4.751769  154.036647"
      ]
     },
     "execution_count": 4,
     "metadata": {},
     "output_type": "execute_result"
    }
   ],
   "source": [
    "df_geo_data_0.head()"
   ]
  },
  {
   "cell_type": "code",
   "execution_count": 5,
   "metadata": {
    "execution": {
     "iopub.execute_input": "2025-03-26T16:26:42.331296Z",
     "iopub.status.busy": "2025-03-26T16:26:42.330955Z",
     "iopub.status.idle": "2025-03-26T16:26:42.361834Z",
     "shell.execute_reply": "2025-03-26T16:26:42.360246Z",
     "shell.execute_reply.started": "2025-03-26T16:26:42.331267Z"
    }
   },
   "outputs": [
    {
     "data": {
      "text/html": [
       "<div>\n",
       "<style scoped>\n",
       "    .dataframe tbody tr th:only-of-type {\n",
       "        vertical-align: middle;\n",
       "    }\n",
       "\n",
       "    .dataframe tbody tr th {\n",
       "        vertical-align: top;\n",
       "    }\n",
       "\n",
       "    .dataframe thead th {\n",
       "        text-align: right;\n",
       "    }\n",
       "</style>\n",
       "<table border=\"1\" class=\"dataframe\">\n",
       "  <thead>\n",
       "    <tr style=\"text-align: right;\">\n",
       "      <th></th>\n",
       "      <th>id</th>\n",
       "      <th>f0</th>\n",
       "      <th>f1</th>\n",
       "      <th>f2</th>\n",
       "      <th>product</th>\n",
       "    </tr>\n",
       "  </thead>\n",
       "  <tbody>\n",
       "    <tr>\n",
       "      <th>0</th>\n",
       "      <td>kBEdx</td>\n",
       "      <td>-15.001348</td>\n",
       "      <td>-8.276000</td>\n",
       "      <td>-0.005876</td>\n",
       "      <td>3.179103</td>\n",
       "    </tr>\n",
       "    <tr>\n",
       "      <th>1</th>\n",
       "      <td>62mP7</td>\n",
       "      <td>14.272088</td>\n",
       "      <td>-3.475083</td>\n",
       "      <td>0.999183</td>\n",
       "      <td>26.953261</td>\n",
       "    </tr>\n",
       "    <tr>\n",
       "      <th>2</th>\n",
       "      <td>vyE1P</td>\n",
       "      <td>6.263187</td>\n",
       "      <td>-5.948386</td>\n",
       "      <td>5.001160</td>\n",
       "      <td>134.766305</td>\n",
       "    </tr>\n",
       "    <tr>\n",
       "      <th>3</th>\n",
       "      <td>KcrkZ</td>\n",
       "      <td>-13.081196</td>\n",
       "      <td>-11.506057</td>\n",
       "      <td>4.999415</td>\n",
       "      <td>137.945408</td>\n",
       "    </tr>\n",
       "    <tr>\n",
       "      <th>4</th>\n",
       "      <td>AHL4O</td>\n",
       "      <td>12.702195</td>\n",
       "      <td>-8.147433</td>\n",
       "      <td>5.004363</td>\n",
       "      <td>134.766305</td>\n",
       "    </tr>\n",
       "  </tbody>\n",
       "</table>\n",
       "</div>"
      ],
      "text/plain": [
       "      id         f0         f1        f2     product\n",
       "0  kBEdx -15.001348  -8.276000 -0.005876    3.179103\n",
       "1  62mP7  14.272088  -3.475083  0.999183   26.953261\n",
       "2  vyE1P   6.263187  -5.948386  5.001160  134.766305\n",
       "3  KcrkZ -13.081196 -11.506057  4.999415  137.945408\n",
       "4  AHL4O  12.702195  -8.147433  5.004363  134.766305"
      ]
     },
     "execution_count": 5,
     "metadata": {},
     "output_type": "execute_result"
    }
   ],
   "source": [
    "df_geo_data_1.head()"
   ]
  },
  {
   "cell_type": "code",
   "execution_count": 6,
   "metadata": {
    "execution": {
     "iopub.execute_input": "2025-03-26T16:26:42.363541Z",
     "iopub.status.busy": "2025-03-26T16:26:42.363274Z",
     "iopub.status.idle": "2025-03-26T16:26:42.394774Z",
     "shell.execute_reply": "2025-03-26T16:26:42.393399Z",
     "shell.execute_reply.started": "2025-03-26T16:26:42.363517Z"
    }
   },
   "outputs": [
    {
     "data": {
      "text/html": [
       "<div>\n",
       "<style scoped>\n",
       "    .dataframe tbody tr th:only-of-type {\n",
       "        vertical-align: middle;\n",
       "    }\n",
       "\n",
       "    .dataframe tbody tr th {\n",
       "        vertical-align: top;\n",
       "    }\n",
       "\n",
       "    .dataframe thead th {\n",
       "        text-align: right;\n",
       "    }\n",
       "</style>\n",
       "<table border=\"1\" class=\"dataframe\">\n",
       "  <thead>\n",
       "    <tr style=\"text-align: right;\">\n",
       "      <th></th>\n",
       "      <th>id</th>\n",
       "      <th>f0</th>\n",
       "      <th>f1</th>\n",
       "      <th>f2</th>\n",
       "      <th>product</th>\n",
       "    </tr>\n",
       "  </thead>\n",
       "  <tbody>\n",
       "    <tr>\n",
       "      <th>0</th>\n",
       "      <td>fwXo0</td>\n",
       "      <td>-1.146987</td>\n",
       "      <td>0.963328</td>\n",
       "      <td>-0.828965</td>\n",
       "      <td>27.758673</td>\n",
       "    </tr>\n",
       "    <tr>\n",
       "      <th>1</th>\n",
       "      <td>WJtFt</td>\n",
       "      <td>0.262778</td>\n",
       "      <td>0.269839</td>\n",
       "      <td>-2.530187</td>\n",
       "      <td>56.069697</td>\n",
       "    </tr>\n",
       "    <tr>\n",
       "      <th>2</th>\n",
       "      <td>ovLUW</td>\n",
       "      <td>0.194587</td>\n",
       "      <td>0.289035</td>\n",
       "      <td>-5.586433</td>\n",
       "      <td>62.871910</td>\n",
       "    </tr>\n",
       "    <tr>\n",
       "      <th>3</th>\n",
       "      <td>q6cA6</td>\n",
       "      <td>2.236060</td>\n",
       "      <td>-0.553760</td>\n",
       "      <td>0.930038</td>\n",
       "      <td>114.572842</td>\n",
       "    </tr>\n",
       "    <tr>\n",
       "      <th>4</th>\n",
       "      <td>WPMUX</td>\n",
       "      <td>-0.515993</td>\n",
       "      <td>1.716266</td>\n",
       "      <td>5.899011</td>\n",
       "      <td>149.600746</td>\n",
       "    </tr>\n",
       "  </tbody>\n",
       "</table>\n",
       "</div>"
      ],
      "text/plain": [
       "      id        f0        f1        f2     product\n",
       "0  fwXo0 -1.146987  0.963328 -0.828965   27.758673\n",
       "1  WJtFt  0.262778  0.269839 -2.530187   56.069697\n",
       "2  ovLUW  0.194587  0.289035 -5.586433   62.871910\n",
       "3  q6cA6  2.236060 -0.553760  0.930038  114.572842\n",
       "4  WPMUX -0.515993  1.716266  5.899011  149.600746"
      ]
     },
     "execution_count": 6,
     "metadata": {},
     "output_type": "execute_result"
    }
   ],
   "source": [
    "df_geo_data_2.head()"
   ]
  },
  {
   "cell_type": "code",
   "execution_count": 7,
   "metadata": {
    "execution": {
     "iopub.execute_input": "2025-03-26T16:26:42.396489Z",
     "iopub.status.busy": "2025-03-26T16:26:42.396169Z",
     "iopub.status.idle": "2025-03-26T16:26:42.430272Z",
     "shell.execute_reply": "2025-03-26T16:26:42.428875Z",
     "shell.execute_reply.started": "2025-03-26T16:26:42.396461Z"
    }
   },
   "outputs": [
    {
     "name": "stdout",
     "output_type": "stream",
     "text": [
      "<class 'pandas.core.frame.DataFrame'>\n",
      "RangeIndex: 100000 entries, 0 to 99999\n",
      "Data columns (total 5 columns):\n",
      " #   Column   Non-Null Count   Dtype  \n",
      "---  ------   --------------   -----  \n",
      " 0   id       100000 non-null  object \n",
      " 1   f0       100000 non-null  float64\n",
      " 2   f1       100000 non-null  float64\n",
      " 3   f2       100000 non-null  float64\n",
      " 4   product  100000 non-null  float64\n",
      "dtypes: float64(4), object(1)\n",
      "memory usage: 3.8+ MB\n"
     ]
    }
   ],
   "source": [
    "df_geo_data_0.info()"
   ]
  },
  {
   "cell_type": "code",
   "execution_count": 8,
   "metadata": {
    "execution": {
     "iopub.execute_input": "2025-03-26T16:26:42.431731Z",
     "iopub.status.busy": "2025-03-26T16:26:42.431479Z",
     "iopub.status.idle": "2025-03-26T16:26:42.449646Z",
     "shell.execute_reply": "2025-03-26T16:26:42.448259Z",
     "shell.execute_reply.started": "2025-03-26T16:26:42.431708Z"
    }
   },
   "outputs": [
    {
     "name": "stdout",
     "output_type": "stream",
     "text": [
      "<class 'pandas.core.frame.DataFrame'>\n",
      "RangeIndex: 100000 entries, 0 to 99999\n",
      "Data columns (total 5 columns):\n",
      " #   Column   Non-Null Count   Dtype  \n",
      "---  ------   --------------   -----  \n",
      " 0   id       100000 non-null  object \n",
      " 1   f0       100000 non-null  float64\n",
      " 2   f1       100000 non-null  float64\n",
      " 3   f2       100000 non-null  float64\n",
      " 4   product  100000 non-null  float64\n",
      "dtypes: float64(4), object(1)\n",
      "memory usage: 3.8+ MB\n"
     ]
    }
   ],
   "source": [
    "df_geo_data_1.info()"
   ]
  },
  {
   "cell_type": "code",
   "execution_count": 9,
   "metadata": {
    "execution": {
     "iopub.execute_input": "2025-03-26T16:26:42.450864Z",
     "iopub.status.busy": "2025-03-26T16:26:42.450608Z",
     "iopub.status.idle": "2025-03-26T16:26:42.473673Z",
     "shell.execute_reply": "2025-03-26T16:26:42.472301Z",
     "shell.execute_reply.started": "2025-03-26T16:26:42.450842Z"
    }
   },
   "outputs": [
    {
     "name": "stdout",
     "output_type": "stream",
     "text": [
      "<class 'pandas.core.frame.DataFrame'>\n",
      "RangeIndex: 100000 entries, 0 to 99999\n",
      "Data columns (total 5 columns):\n",
      " #   Column   Non-Null Count   Dtype  \n",
      "---  ------   --------------   -----  \n",
      " 0   id       100000 non-null  object \n",
      " 1   f0       100000 non-null  float64\n",
      " 2   f1       100000 non-null  float64\n",
      " 3   f2       100000 non-null  float64\n",
      " 4   product  100000 non-null  float64\n",
      "dtypes: float64(4), object(1)\n",
      "memory usage: 3.8+ MB\n"
     ]
    }
   ],
   "source": [
    "df_geo_data_2.info()"
   ]
  },
  {
   "cell_type": "markdown",
   "metadata": {},
   "source": [
    "___ \n",
    "Обратимся к документации таблицы для определения значений столбцов:\n",
    "    \n",
    "\n",
    "    1. id — уникальный идентификатор скважины;\n",
    "    2-4. f0, f1, f2 — три признака точек (неважно, что они означают, но сами признаки значимы);\n",
    "    5. product — объём запасов в скважине (тыс. баррелей).\n",
    "___"
   ]
  },
  {
   "cell_type": "markdown",
   "metadata": {},
   "source": [
    "___ \n",
    "    По первичному просмотру данных можно сказать, что:\n",
    "    1. Пропусков в столбцах нет\n",
    "    2. Наименования столбцов соответствуют стандартам и идентичны друг другу\n",
    "    3. Типы данных указаны правильные\n",
    "___"
   ]
  },
  {
   "cell_type": "markdown",
   "metadata": {},
   "source": [
    "##  Предобработка данных"
   ]
  },
  {
   "cell_type": "markdown",
   "metadata": {},
   "source": [
    "---\n",
    "    На этом этапе, необходимо проверить данные на наличие пропусков и дубликатов. \n",
    "    При необходимости устранить все проблемы с данными.\n",
    "---"
   ]
  },
  {
   "cell_type": "markdown",
   "metadata": {},
   "source": [
    "___\n",
    "    Из выводов info() о данных, можно сделать вывод, что пропусков нет\n",
    "___"
   ]
  },
  {
   "cell_type": "markdown",
   "metadata": {},
   "source": [
    "___\n",
    "    Категориальных данных для изучения нет \n",
    "___"
   ]
  },
  {
   "cell_type": "markdown",
   "metadata": {},
   "source": [
    "___\n",
    "    Проверим данные на наличие явных дубликатов и удалим их, если они есть\n",
    "___"
   ]
  },
  {
   "cell_type": "code",
   "execution_count": 10,
   "metadata": {
    "execution": {
     "iopub.execute_input": "2025-03-26T16:26:42.475334Z",
     "iopub.status.busy": "2025-03-26T16:26:42.474972Z",
     "iopub.status.idle": "2025-03-26T16:26:42.526293Z",
     "shell.execute_reply": "2025-03-26T16:26:42.525237Z",
     "shell.execute_reply.started": "2025-03-26T16:26:42.475307Z"
    }
   },
   "outputs": [
    {
     "data": {
      "text/plain": [
       "0"
      ]
     },
     "execution_count": 10,
     "metadata": {},
     "output_type": "execute_result"
    }
   ],
   "source": [
    "df_geo_data_0.duplicated().sum()"
   ]
  },
  {
   "cell_type": "code",
   "execution_count": 11,
   "metadata": {
    "execution": {
     "iopub.execute_input": "2025-03-26T16:26:42.527525Z",
     "iopub.status.busy": "2025-03-26T16:26:42.527292Z",
     "iopub.status.idle": "2025-03-26T16:26:42.569478Z",
     "shell.execute_reply": "2025-03-26T16:26:42.568011Z",
     "shell.execute_reply.started": "2025-03-26T16:26:42.527504Z"
    }
   },
   "outputs": [
    {
     "data": {
      "text/plain": [
       "0"
      ]
     },
     "execution_count": 11,
     "metadata": {},
     "output_type": "execute_result"
    }
   ],
   "source": [
    "df_geo_data_1.duplicated().sum()"
   ]
  },
  {
   "cell_type": "code",
   "execution_count": 12,
   "metadata": {
    "execution": {
     "iopub.execute_input": "2025-03-26T16:26:42.570982Z",
     "iopub.status.busy": "2025-03-26T16:26:42.570616Z",
     "iopub.status.idle": "2025-03-26T16:26:42.612660Z",
     "shell.execute_reply": "2025-03-26T16:26:42.611539Z",
     "shell.execute_reply.started": "2025-03-26T16:26:42.570946Z"
    }
   },
   "outputs": [
    {
     "data": {
      "text/plain": [
       "0"
      ]
     },
     "execution_count": 12,
     "metadata": {},
     "output_type": "execute_result"
    }
   ],
   "source": [
    "df_geo_data_2.duplicated().sum()"
   ]
  },
  {
   "cell_type": "markdown",
   "metadata": {},
   "source": [
    "---\n",
    "    Дубликатов нет. Удалять нечего\n",
    "---"
   ]
  },
  {
   "cell_type": "markdown",
   "metadata": {},
   "source": [
    "___\n",
    "    Мы провели предобработку данных\n",
    "    Дубликатов нет, данные приведены к стандарту\n",
    "    \n",
    "    Можем перейти к Анализу данных\n",
    "___"
   ]
  },
  {
   "cell_type": "markdown",
   "metadata": {},
   "source": [
    "##  Исследовательский анализ данных"
   ]
  },
  {
   "cell_type": "markdown",
   "metadata": {},
   "source": [
    "\n",
    "\n",
    "___\n",
    "\n",
    "    На этом этапе нам предстоит:\n",
    "    - Провести статистический анализ признаков\n",
    "    - Построить графики для каждого признака\n",
    "    - Сделать выводы о данных\n",
    "___\n"
   ]
  },
  {
   "cell_type": "code",
   "execution_count": 13,
   "metadata": {
    "execution": {
     "iopub.execute_input": "2025-03-26T16:26:42.613532Z",
     "iopub.status.busy": "2025-03-26T16:26:42.613293Z",
     "iopub.status.idle": "2025-03-26T16:26:42.627169Z",
     "shell.execute_reply": "2025-03-26T16:26:42.626058Z",
     "shell.execute_reply.started": "2025-03-26T16:26:42.613514Z"
    }
   },
   "outputs": [
    {
     "name": "stdout",
     "output_type": "stream",
     "text": [
      "<class 'pandas.core.frame.DataFrame'>\n",
      "RangeIndex: 100000 entries, 0 to 99999\n",
      "Data columns (total 5 columns):\n",
      " #   Column   Non-Null Count   Dtype  \n",
      "---  ------   --------------   -----  \n",
      " 0   id       100000 non-null  object \n",
      " 1   f0       100000 non-null  float64\n",
      " 2   f1       100000 non-null  float64\n",
      " 3   f2       100000 non-null  float64\n",
      " 4   product  100000 non-null  float64\n",
      "dtypes: float64(4), object(1)\n",
      "memory usage: 3.8+ MB\n"
     ]
    }
   ],
   "source": [
    "df_geo_data_0.info()"
   ]
  },
  {
   "cell_type": "markdown",
   "metadata": {},
   "source": [
    "\n",
    "\n",
    "___\n",
    "\n",
    "    Начнем с анализа f0\n",
    "___\n"
   ]
  },
  {
   "cell_type": "code",
   "execution_count": 14,
   "metadata": {
    "execution": {
     "iopub.execute_input": "2025-03-26T16:26:42.628235Z",
     "iopub.status.busy": "2025-03-26T16:26:42.627878Z",
     "iopub.status.idle": "2025-03-26T16:26:42.670773Z",
     "shell.execute_reply": "2025-03-26T16:26:42.669753Z",
     "shell.execute_reply.started": "2025-03-26T16:26:42.628203Z"
    }
   },
   "outputs": [
    {
     "name": "stdout",
     "output_type": "stream",
     "text": [
      "count    100000.000000\n",
      "mean          0.500419\n",
      "std           0.871832\n",
      "min          -1.408605\n",
      "25%          -0.072580\n",
      "50%           0.502360\n",
      "75%           1.073581\n",
      "max           2.362331\n",
      "Name: f0, dtype: float64 \n",
      "\n",
      "count    100000.000000\n",
      "mean          1.141296\n",
      "std           8.965932\n",
      "min         -31.609576\n",
      "25%          -6.298551\n",
      "50%           1.153055\n",
      "75%           8.621015\n",
      "max          29.421755\n",
      "Name: f0, dtype: float64 \n",
      "\n",
      "count    100000.000000\n",
      "mean          0.002023\n",
      "std           1.732045\n",
      "min          -8.760004\n",
      "25%          -1.162288\n",
      "50%           0.009424\n",
      "75%           1.158535\n",
      "max           7.238262\n",
      "Name: f0, dtype: float64 \n",
      "\n"
     ]
    }
   ],
   "source": [
    "print(df_geo_data_0['f0'].describe(), '\\n')\n",
    "print(df_geo_data_1['f0'].describe(), '\\n')\n",
    "print(df_geo_data_2['f0'].describe(), '\\n')"
   ]
  },
  {
   "cell_type": "code",
   "execution_count": 15,
   "metadata": {
    "execution": {
     "iopub.execute_input": "2025-03-26T16:26:42.671853Z",
     "iopub.status.busy": "2025-03-26T16:26:42.671617Z",
     "iopub.status.idle": "2025-03-26T16:26:43.815586Z",
     "shell.execute_reply": "2025-03-26T16:26:43.813939Z",
     "shell.execute_reply.started": "2025-03-26T16:26:42.671832Z"
    }
   },
   "outputs": [
    {
     "name": "stdout",
     "output_type": "stream",
     "text": [
      "Графики для датасета df_geo_data_0\n"
     ]
    },
    {
     "data": {
      "image/png": "[encoded data removed]",
      "text/plain": [
       "<Figure size 648x432 with 1 Axes>"
      ]
     },
     "metadata": {
      "needs_background": "light"
     },
     "output_type": "display_data"
    },
    {
     "data": {
      "image/png": "[encoded data removed]",
      "text/plain": [
       "<Figure size 648x432 with 1 Axes>"
      ]
     },
     "metadata": {
      "needs_background": "light"
     },
     "output_type": "display_data"
    },
    {
     "name": "stdout",
     "output_type": "stream",
     "text": [
      "Графики для датасета df_geo_data_1\n"
     ]
    },
    {
     "data": {
      "image/png": "[encoded data removed]",
      "text/plain": [
       "<Figure size 648x432 with 1 Axes>"
      ]
     },
     "metadata": {
      "needs_background": "light"
     },
     "output_type": "display_data"
    },
    {
     "data": {
      "image/png": "[encoded data removed]",
      "text/plain": [
       "<Figure size 648x432 with 1 Axes>"
      ]
     },
     "metadata": {
      "needs_background": "light"
     },
     "output_type": "display_data"
    },
    {
     "name": "stdout",
     "output_type": "stream",
     "text": [
      "Графики для датасета df_geo_data_2\n"
     ]
    },
    {
     "data": {
      "image/png": "[encoded data removed]",
      "text/plain": [
       "<Figure size 648x432 with 1 Axes>"
      ]
     },
     "metadata": {
      "needs_background": "light"
     },
     "output_type": "display_data"
    },
    {
     "data": {
      "image/png": "[encoded data removed]",
      "text/plain": [
       "<Figure size 648x432 with 1 Axes>"
      ]
     },
     "metadata": {
      "needs_background": "light"
     },
     "output_type": "display_data"
    }
   ],
   "source": [
    "datasets = [df_geo_data_0, df_geo_data_1, df_geo_data_2]\n",
    "\n",
    "for i in range(len(datasets)):\n",
    "    print(f'Графики для датасета df_geo_data_{i}')\n",
    "    \n",
    "    datasets[i].plot(kind='box', y='f0')\n",
    "    plt.ylabel('f0')\n",
    "    plt.title(f'График для f0')\n",
    "    plt.show()\n",
    "\n",
    "    datasets[i].plot(kind='hist', y='f0', bins=23)\n",
    "    plt.xlabel('f0')\n",
    "    plt.ylabel('Кол-во записей')\n",
    "    plt.title(f'График для f0')\n",
    "    \n",
    "    plt.show()"
   ]
  },
  {
   "cell_type": "markdown",
   "metadata": {},
   "source": [
    "___\n",
    "    В разных датасетах признак f0 варьируется от -30 до 30 или от -1.5 до 2.5\n",
    "    Данные слишком отличаются друг от друга\n",
    "    Имеются выбросы в датасетах df_geo_data_1 и df_geo_data_2. Их устранять мы не будем из-за неопределённости их важности\n",
    "    Нормальное распределение признака можно увидеть только в df_geo_data_2\n",
    "___"
   ]
  },
  {
   "cell_type": "markdown",
   "metadata": {},
   "source": [
    "\n",
    "\n",
    "___\n",
    "\n",
    "    Проведём анализ f1\n",
    "___\n"
   ]
  },
  {
   "cell_type": "code",
   "execution_count": 16,
   "metadata": {
    "execution": {
     "iopub.execute_input": "2025-03-26T16:26:43.817506Z",
     "iopub.status.busy": "2025-03-26T16:26:43.817055Z",
     "iopub.status.idle": "2025-03-26T16:26:43.842460Z",
     "shell.execute_reply": "2025-03-26T16:26:43.841080Z",
     "shell.execute_reply.started": "2025-03-26T16:26:43.817453Z"
    }
   },
   "outputs": [
    {
     "name": "stdout",
     "output_type": "stream",
     "text": [
      "count    100000.000000\n",
      "mean          0.250143\n",
      "std           0.504433\n",
      "min          -0.848218\n",
      "25%          -0.200881\n",
      "50%           0.250252\n",
      "75%           0.700646\n",
      "max           1.343769\n",
      "Name: f1, dtype: float64 \n",
      "\n",
      "count    100000.000000\n",
      "mean         -4.796579\n",
      "std           5.119872\n",
      "min         -26.358598\n",
      "25%          -8.267985\n",
      "50%          -4.813172\n",
      "75%          -1.332816\n",
      "max          18.734063\n",
      "Name: f1, dtype: float64 \n",
      "\n",
      "count    100000.000000\n",
      "mean         -0.002081\n",
      "std           1.730417\n",
      "min          -7.084020\n",
      "25%          -1.174820\n",
      "50%          -0.009482\n",
      "75%           1.163678\n",
      "max           7.844801\n",
      "Name: f1, dtype: float64 \n",
      "\n"
     ]
    }
   ],
   "source": [
    "print(df_geo_data_0['f1'].describe(), '\\n')\n",
    "print(df_geo_data_1['f1'].describe(), '\\n')\n",
    "print(df_geo_data_2['f1'].describe(), '\\n')"
   ]
  },
  {
   "cell_type": "code",
   "execution_count": 17,
   "metadata": {
    "execution": {
     "iopub.execute_input": "2025-03-26T16:26:43.844160Z",
     "iopub.status.busy": "2025-03-26T16:26:43.843746Z",
     "iopub.status.idle": "2025-03-26T16:26:44.744551Z",
     "shell.execute_reply": "2025-03-26T16:26:44.742884Z",
     "shell.execute_reply.started": "2025-03-26T16:26:43.844111Z"
    }
   },
   "outputs": [
    {
     "name": "stdout",
     "output_type": "stream",
     "text": [
      "Графики для датасета df_geo_data_0\n"
     ]
    },
    {
     "data": {
      "image/png": "[encoded data removed]",
      "text/plain": [
       "<Figure size 648x432 with 1 Axes>"
      ]
     },
     "metadata": {
      "needs_background": "light"
     },
     "output_type": "display_data"
    },
    {
     "data": {
      "image/png": "[encoded data removed]",
      "text/plain": [
       "<Figure size 648x432 with 1 Axes>"
      ]
     },
     "metadata": {
      "needs_background": "light"
     },
     "output_type": "display_data"
    },
    {
     "name": "stdout",
     "output_type": "stream",
     "text": [
      "Графики для датасета df_geo_data_1\n"
     ]
    },
    {
     "data": {
      "image/png": "[encoded data removed]",
      "text/plain": [
       "<Figure size 648x432 with 1 Axes>"
      ]
     },
     "metadata": {
      "needs_background": "light"
     },
     "output_type": "display_data"
    },
    {
     "data": {
      "image/png": "[encoded data removed]",
      "text/plain": [
       "<Figure size 648x432 with 1 Axes>"
      ]
     },
     "metadata": {
      "needs_background": "light"
     },
     "output_type": "display_data"
    },
    {
     "name": "stdout",
     "output_type": "stream",
     "text": [
      "Графики для датасета df_geo_data_2\n"
     ]
    },
    {
     "data": {
      "image/png": "[encoded data removed]",
      "text/plain": [
       "<Figure size 648x432 with 1 Axes>"
      ]
     },
     "metadata": {
      "needs_background": "light"
     },
     "output_type": "display_data"
    },
    {
     "data": {
      "image/png": "[encoded data removed]",
      "text/plain": [
       "<Figure size 648x432 with 1 Axes>"
      ]
     },
     "metadata": {
      "needs_background": "light"
     },
     "output_type": "display_data"
    }
   ],
   "source": [
    "for i in range(len(datasets)):\n",
    "    print(f'Графики для датасета df_geo_data_{i}')\n",
    "    \n",
    "    datasets[i].plot(kind='box', y='f1')\n",
    "    plt.ylabel('f1')\n",
    "    plt.title(f'График для f1')\n",
    "    plt.show()\n",
    "\n",
    "    datasets[i].plot(kind='hist', y='f1', bins=23)\n",
    "    plt.xlabel('f1')\n",
    "    plt.ylabel('Кол-во записей')\n",
    "    plt.title(f'График для f1')\n",
    "    \n",
    "    plt.show()"
   ]
  },
  {
   "cell_type": "markdown",
   "metadata": {},
   "source": [
    "___\n",
    "    В разных датасетах признак f1 варьируется от -26 до 18 или от -0.8 до 1.3\n",
    "    Данные также, как и f0 слишком отличаются друг от друга\n",
    "    Имеются выбросы в датасетах df_geo_data_1 и df_geo_data_2. Их устранять мы не будем из-за неопределённости их важности\n",
    "    Нормальное распределение признака можно увидеть в df_geo_data_1 и df_geo_data_2\n",
    "___"
   ]
  },
  {
   "cell_type": "markdown",
   "metadata": {},
   "source": [
    "\n",
    "\n",
    "___\n",
    "\n",
    "    Проведём анализ f2\n",
    "___\n"
   ]
  },
  {
   "cell_type": "code",
   "execution_count": 18,
   "metadata": {
    "execution": {
     "iopub.execute_input": "2025-03-26T16:26:44.746164Z",
     "iopub.status.busy": "2025-03-26T16:26:44.745746Z",
     "iopub.status.idle": "2025-03-26T16:26:44.769446Z",
     "shell.execute_reply": "2025-03-26T16:26:44.768239Z",
     "shell.execute_reply.started": "2025-03-26T16:26:44.746103Z"
    }
   },
   "outputs": [
    {
     "name": "stdout",
     "output_type": "stream",
     "text": [
      "count    100000.000000\n",
      "mean          2.502647\n",
      "std           3.248248\n",
      "min         -12.088328\n",
      "25%           0.287748\n",
      "50%           2.515969\n",
      "75%           4.715088\n",
      "max          16.003790\n",
      "Name: f2, dtype: float64 \n",
      "\n",
      "count    100000.000000\n",
      "mean          2.494541\n",
      "std           1.703572\n",
      "min          -0.018144\n",
      "25%           1.000021\n",
      "50%           2.011479\n",
      "75%           3.999904\n",
      "max           5.019721\n",
      "Name: f2, dtype: float64 \n",
      "\n",
      "count    100000.000000\n",
      "mean          2.495128\n",
      "std           3.473445\n",
      "min         -11.970335\n",
      "25%           0.130359\n",
      "50%           2.484236\n",
      "75%           4.858794\n",
      "max          16.739402\n",
      "Name: f2, dtype: float64 \n",
      "\n"
     ]
    }
   ],
   "source": [
    "print(df_geo_data_0['f2'].describe(), '\\n')\n",
    "print(df_geo_data_1['f2'].describe(), '\\n')\n",
    "print(df_geo_data_2['f2'].describe(), '\\n')"
   ]
  },
  {
   "cell_type": "code",
   "execution_count": 19,
   "metadata": {
    "execution": {
     "iopub.execute_input": "2025-03-26T16:26:44.775036Z",
     "iopub.status.busy": "2025-03-26T16:26:44.774726Z",
     "iopub.status.idle": "2025-03-26T16:26:45.685589Z",
     "shell.execute_reply": "2025-03-26T16:26:45.683863Z",
     "shell.execute_reply.started": "2025-03-26T16:26:44.775009Z"
    }
   },
   "outputs": [
    {
     "name": "stdout",
     "output_type": "stream",
     "text": [
      "Графики для датасета df_geo_data_0\n"
     ]
    },
    {
     "data": {
      "image/png": "[encoded data removed]",
      "text/plain": [
       "<Figure size 648x432 with 1 Axes>"
      ]
     },
     "metadata": {
      "needs_background": "light"
     },
     "output_type": "display_data"
    },
    {
     "data": {
      "image/png": "[encoded data removed]",
      "text/plain": [
       "<Figure size 648x432 with 1 Axes>"
      ]
     },
     "metadata": {
      "needs_background": "light"
     },
     "output_type": "display_data"
    },
    {
     "name": "stdout",
     "output_type": "stream",
     "text": [
      "Графики для датасета df_geo_data_1\n"
     ]
    },
    {
     "data": {
      "image/png": "[encoded data removed]",
      "text/plain": [
       "<Figure size 648x432 with 1 Axes>"
      ]
     },
     "metadata": {
      "needs_background": "light"
     },
     "output_type": "display_data"
    },
    {
     "data": {
      "image/png": "[encoded data removed]",
      "text/plain": [
       "<Figure size 648x432 with 1 Axes>"
      ]
     },
     "metadata": {
      "needs_background": "light"
     },
     "output_type": "display_data"
    },
    {
     "name": "stdout",
     "output_type": "stream",
     "text": [
      "Графики для датасета df_geo_data_2\n"
     ]
    },
    {
     "data": {
      "image/png": "[encoded data removed]",
      "text/plain": [
       "<Figure size 648x432 with 1 Axes>"
      ]
     },
     "metadata": {
      "needs_background": "light"
     },
     "output_type": "display_data"
    },
    {
     "data": {
      "image/png": "[encoded data removed]",
      "text/plain": [
       "<Figure size 648x432 with 1 Axes>"
      ]
     },
     "metadata": {
      "needs_background": "light"
     },
     "output_type": "display_data"
    }
   ],
   "source": [
    "for i in range(len(datasets)):\n",
    "    print(f'Графики для датасета df_geo_data_{i}')\n",
    "    \n",
    "    datasets[i].plot(kind='box', y='f2')\n",
    "    plt.ylabel('f2')\n",
    "    plt.title(f'График для f2')\n",
    "    plt.show()\n",
    "\n",
    "    datasets[i].plot(kind='hist', y='f2', bins=23)\n",
    "    plt.xlabel('f2')\n",
    "    plt.ylabel('Кол-во записей')\n",
    "    plt.title(f'График для f2')\n",
    "    \n",
    "    plt.show()"
   ]
  },
  {
   "cell_type": "code",
   "execution_count": 20,
   "metadata": {
    "execution": {
     "iopub.execute_input": "2025-03-26T16:26:45.688328Z",
     "iopub.status.busy": "2025-03-26T16:26:45.687932Z",
     "iopub.status.idle": "2025-03-26T16:26:45.703197Z",
     "shell.execute_reply": "2025-03-26T16:26:45.701756Z",
     "shell.execute_reply.started": "2025-03-26T16:26:45.688301Z"
    }
   },
   "outputs": [
    {
     "data": {
      "text/plain": [
       "array([-5.87601369e-03,  9.99182737e-01,  5.00116016e+00, ...,\n",
       "        4.99865060e+00,  1.00014635e+00, -3.29851829e-03])"
      ]
     },
     "execution_count": 20,
     "metadata": {},
     "output_type": "execute_result"
    }
   ],
   "source": [
    "df_geo_data_1['f2'].unique()"
   ]
  },
  {
   "cell_type": "markdown",
   "metadata": {},
   "source": [
    "___\n",
    "    В разных датасетах признак f2 варьируется от -12 до 16 или от -0.02 до 5\n",
    "    Данные также, как и f1 слишком отличаются друг от друга\n",
    "    Имеются выбросы в датасетах df_geo_data_0 и df_geo_data_2. Их устранять мы не будем из-за неопределённости их важности\n",
    "    В графике df_geo_data_1 данные распределены равномерно\n",
    "    Нормальное распределение признака можно увидеть в df_geo_data_0 и df_geo_data_2\n",
    "___"
   ]
  },
  {
   "cell_type": "markdown",
   "metadata": {},
   "source": [
    "\n",
    "\n",
    "___\n",
    "\n",
    "    Проведём анализ product\n",
    "___\n"
   ]
  },
  {
   "cell_type": "code",
   "execution_count": 21,
   "metadata": {
    "execution": {
     "iopub.execute_input": "2025-03-26T16:26:45.704982Z",
     "iopub.status.busy": "2025-03-26T16:26:45.704571Z",
     "iopub.status.idle": "2025-03-26T16:26:45.742196Z",
     "shell.execute_reply": "2025-03-26T16:26:45.740426Z",
     "shell.execute_reply.started": "2025-03-26T16:26:45.704948Z"
    }
   },
   "outputs": [
    {
     "name": "stdout",
     "output_type": "stream",
     "text": [
      "count    100000.000000\n",
      "mean         92.500000\n",
      "std          44.288691\n",
      "min           0.000000\n",
      "25%          56.497507\n",
      "50%          91.849972\n",
      "75%         128.564089\n",
      "max         185.364347\n",
      "Name: product, dtype: float64 \n",
      "\n",
      "count    100000.000000\n",
      "mean         68.825000\n",
      "std          45.944423\n",
      "min           0.000000\n",
      "25%          26.953261\n",
      "50%          57.085625\n",
      "75%         107.813044\n",
      "max         137.945408\n",
      "Name: product, dtype: float64 \n",
      "\n",
      "count    100000.000000\n",
      "mean         95.000000\n",
      "std          44.749921\n",
      "min           0.000000\n",
      "25%          59.450441\n",
      "50%          94.925613\n",
      "75%         130.595027\n",
      "max         190.029838\n",
      "Name: product, dtype: float64 \n",
      "\n"
     ]
    }
   ],
   "source": [
    "print(df_geo_data_0['product'].describe(), '\\n')\n",
    "print(df_geo_data_1['product'].describe(), '\\n')\n",
    "print(df_geo_data_2['product'].describe(), '\\n')"
   ]
  },
  {
   "cell_type": "code",
   "execution_count": 22,
   "metadata": {
    "execution": {
     "iopub.execute_input": "2025-03-26T16:26:45.743498Z",
     "iopub.status.busy": "2025-03-26T16:26:45.743201Z",
     "iopub.status.idle": "2025-03-26T16:26:46.808039Z",
     "shell.execute_reply": "2025-03-26T16:26:46.806881Z",
     "shell.execute_reply.started": "2025-03-26T16:26:45.743473Z"
    }
   },
   "outputs": [
    {
     "name": "stdout",
     "output_type": "stream",
     "text": [
      "Графики для датасета df_geo_data_0\n"
     ]
    },
    {
     "data": {
      "image/png": "[encoded data removed]",
      "text/plain": [
       "<Figure size 648x432 with 1 Axes>"
      ]
     },
     "metadata": {
      "needs_background": "light"
     },
     "output_type": "display_data"
    },
    {
     "data": {
      "image/png": "[encoded data removed]",
      "text/plain": [
       "<Figure size 648x432 with 1 Axes>"
      ]
     },
     "metadata": {
      "needs_background": "light"
     },
     "output_type": "display_data"
    },
    {
     "name": "stdout",
     "output_type": "stream",
     "text": [
      "Графики для датасета df_geo_data_1\n"
     ]
    },
    {
     "data": {
      "image/png": "[encoded data removed]",
      "text/plain": [
       "<Figure size 648x432 with 1 Axes>"
      ]
     },
     "metadata": {
      "needs_background": "light"
     },
     "output_type": "display_data"
    },
    {
     "data": {
      "image/png": "[encoded data removed]",
      "text/plain": [
       "<Figure size 648x432 with 1 Axes>"
      ]
     },
     "metadata": {
      "needs_background": "light"
     },
     "output_type": "display_data"
    },
    {
     "name": "stdout",
     "output_type": "stream",
     "text": [
      "Графики для датасета df_geo_data_2\n"
     ]
    },
    {
     "data": {
      "image/png": "[encoded data removed]",
      "text/plain": [
       "<Figure size 648x432 with 1 Axes>"
      ]
     },
     "metadata": {
      "needs_background": "light"
     },
     "output_type": "display_data"
    },
    {
     "data": {
      "image/png": "[encoded data removed]",
      "text/plain": [
       "<Figure size 648x432 with 1 Axes>"
      ]
     },
     "metadata": {
      "needs_background": "light"
     },
     "output_type": "display_data"
    }
   ],
   "source": [
    "for i in range(len(datasets)):\n",
    "    print(f'Графики для датасета df_geo_data_{i}')\n",
    "    \n",
    "    datasets[i].plot(kind='box', y='product')\n",
    "    plt.ylabel('product')\n",
    "    plt.title(f'График для product')\n",
    "    plt.show()\n",
    "\n",
    "    datasets[i].plot(kind='hist', y='product', bins=43)\n",
    "    plt.xlabel('product')\n",
    "    plt.ylabel('Кол-во записей')\n",
    "    plt.title(f'График для product')\n",
    "    \n",
    "    plt.show()"
   ]
  },
  {
   "cell_type": "markdown",
   "metadata": {},
   "source": [
    "___\n",
    "    В разных датасетах признак product варьируется со средним значением 68-95\n",
    "    Выбросов в данных нет\n",
    "    В графике видны точечные значения, где записей больше\n",
    "___"
   ]
  },
  {
   "cell_type": "markdown",
   "metadata": {},
   "source": [
    "___\n",
    "###    Вывод:\n",
    "\n",
    "   **Признаки f0 - f2**\n",
    "\n",
    "    Данные слишком отличаются друг от друга\n",
    "    В некоторых данных имеются выбросы, но их невозможно удалить из-за неопределенности важности\n",
    "    Некоторые графики имеют нормальное распределение\n",
    "    В графике geo_data_1 признак f2 разделен слишком равномерно, как будто искусственно созданные данные\n",
    "\n",
    "   **Признак product**\n",
    "\n",
    "    В разных датасетах признак product варьируется:\n",
    "    1. Со средним значением 68-95\n",
    "    2. С минимальным значением у всех: 0\n",
    "    3. С максимальным значением: 137-190\n",
    "    \n",
    "    Выбросов в данных нет\n",
    "    В графике видны точечные значения, где записей больше\n",
    "___"
   ]
  },
  {
   "cell_type": "markdown",
   "metadata": {},
   "source": [
    "##  Корреляционный анализ"
   ]
  },
  {
   "cell_type": "markdown",
   "metadata": {},
   "source": [
    "---\n",
    "\n",
    "    Проведем корреляционный анализ признаков в датасетах\n",
    "\n",
    "---"
   ]
  },
  {
   "cell_type": "code",
   "execution_count": 23,
   "metadata": {
    "execution": {
     "iopub.execute_input": "2025-03-26T16:26:46.809400Z",
     "iopub.status.busy": "2025-03-26T16:26:46.809047Z",
     "iopub.status.idle": "2025-03-26T16:26:47.481586Z",
     "shell.execute_reply": "2025-03-26T16:26:47.480489Z",
     "shell.execute_reply.started": "2025-03-26T16:26:46.809378Z"
    }
   },
   "outputs": [
    {
     "name": "stdout",
     "output_type": "stream",
     "text": [
      "geo_data_0\n",
      "               f0        f1        f2   product\n",
      "f0       1.000000 -0.471395 -0.002685  0.128417\n",
      "f1      -0.471395  1.000000  0.001413 -0.181143\n",
      "f2      -0.002685  0.001413  1.000000  0.486394\n",
      "product  0.128417 -0.181143  0.486394  1.000000\n"
     ]
    },
    {
     "data": {
      "image/png": "[encoded data removed]",
      "text/plain": [
       "<Figure size 648x432 with 2 Axes>"
      ]
     },
     "metadata": {
      "needs_background": "light"
     },
     "output_type": "display_data"
    },
    {
     "name": "stdout",
     "output_type": "stream",
     "text": [
      "geo_data_1\n",
      "               f0        f1        f2   product\n",
      "f0       1.000000  0.182248 -0.002000 -0.122869\n",
      "f1       0.182248  1.000000 -0.003678 -0.033908\n",
      "f2      -0.002000 -0.003678  1.000000  0.975605\n",
      "product -0.122869 -0.033908  0.975605  1.000000\n"
     ]
    },
    {
     "data": {
      "image/png": "[encoded data removed]",
      "text/plain": [
       "<Figure size 648x432 with 2 Axes>"
      ]
     },
     "metadata": {
      "needs_background": "light"
     },
     "output_type": "display_data"
    },
    {
     "name": "stdout",
     "output_type": "stream",
     "text": [
      "geo_data_2\n",
      "               f0        f1        f2   product\n",
      "f0       1.000000  0.002493  0.000053 -0.002464\n",
      "f1       0.002493  1.000000  0.000378 -0.001463\n",
      "f2       0.000053  0.000378  1.000000  0.448463\n",
      "product -0.002464 -0.001463  0.448463  1.000000\n"
     ]
    },
    {
     "data": {
      "image/png": "[encoded data removed]",
      "text/plain": [
       "<Figure size 648x432 with 2 Axes>"
      ]
     },
     "metadata": {
      "needs_background": "light"
     },
     "output_type": "display_data"
    }
   ],
   "source": [
    "for i in range(len(datasets)):\n",
    "    print(f'geo_data_{i}')\n",
    "    numeric_columns = datasets[i].select_dtypes(include=['number']).columns\n",
    "    corr = datasets[i][numeric_columns].corr(method='spearman')\n",
    "    print(corr)\n",
    "\n",
    "    sns.heatmap(corr, cmap=\"Blues\", annot=True)\n",
    "    plt.show()"
   ]
  },
  {
   "cell_type": "code",
   "execution_count": 24,
   "metadata": {
    "execution": {
     "iopub.execute_input": "2025-03-26T16:26:47.482992Z",
     "iopub.status.busy": "2025-03-26T16:26:47.482569Z",
     "iopub.status.idle": "2025-03-26T16:26:47.919654Z",
     "shell.execute_reply": "2025-03-26T16:26:47.918401Z",
     "shell.execute_reply.started": "2025-03-26T16:26:47.482916Z"
    }
   },
   "outputs": [
    {
     "data": {
      "text/plain": [
       "<AxesSubplot:xlabel='product', ylabel='f2'>"
      ]
     },
     "execution_count": 24,
     "metadata": {},
     "output_type": "execute_result"
    },
    {
     "data": {
      "image/png": "[encoded data removed]",
      "text/plain": [
       "<Figure size 648x432 with 1 Axes>"
      ]
     },
     "metadata": {
      "needs_background": "light"
     },
     "output_type": "display_data"
    }
   ],
   "source": [
    "sns.scatterplot(\n",
    "                data=df_geo_data_1, \n",
    "                x='product', \n",
    "                y='f2'\n",
    "            )"
   ]
  },
  {
   "cell_type": "markdown",
   "metadata": {},
   "source": [
    "---\n",
    "\n",
    "    Сделаем выводы о взаимосвязи признаков\n",
    "\n",
    "    С целевым значением - product, сильнее всего коррелирует признак f2\n",
    "    А признаки f1 и f0 никак с целевым значением не коррелируют\n",
    "\n",
    "    Интересная картина у признака f2 в датасете df_geo_data_1\n",
    "    Ранее было замечено, что данные как будто сгенерированы искусственно\n",
    "    Признак f2 на 0.98 коррелирует с целевым значением\n",
    "    Так быть не должно. Это сильно повлияет на модель\n",
    "---"
   ]
  },
  {
   "cell_type": "markdown",
   "metadata": {},
   "source": [
    "##  Подготовка данных и обучение модели"
   ]
  },
  {
   "cell_type": "markdown",
   "metadata": {},
   "source": [
    "---\n",
    "    Разделим данные на обучающую и валидационную выборки в соотношении 75:25.\n",
    "---"
   ]
  },
  {
   "cell_type": "code",
   "execution_count": 25,
   "metadata": {
    "execution": {
     "iopub.execute_input": "2025-03-26T16:26:47.920929Z",
     "iopub.status.busy": "2025-03-26T16:26:47.920678Z",
     "iopub.status.idle": "2025-03-26T16:26:47.937982Z",
     "shell.execute_reply": "2025-03-26T16:26:47.936497Z",
     "shell.execute_reply.started": "2025-03-26T16:26:47.920908Z"
    }
   },
   "outputs": [
    {
     "data": {
      "text/plain": [
       "((75000, 3), (25000, 3))"
      ]
     },
     "execution_count": 25,
     "metadata": {},
     "output_type": "execute_result"
    }
   ],
   "source": [
    "RANDOM_STATE = 42\n",
    "TEST_SIZE = 0.25\n",
    "\n",
    "X_train, X_test, y_train, y_test = train_test_split(\n",
    "    df_geo_data_0.drop(['product', 'id'], axis=1),\n",
    "    df_geo_data_0['product'],\n",
    "    test_size = TEST_SIZE, \n",
    "    random_state = RANDOM_STATE,)\n",
    "\n",
    "X_train.shape, X_test.shape"
   ]
  },
  {
   "cell_type": "markdown",
   "metadata": {},
   "source": [
    "---\n",
    "    Создадим списки с названиями признаков\n",
    "---"
   ]
  },
  {
   "cell_type": "code",
   "execution_count": 26,
   "metadata": {
    "execution": {
     "iopub.execute_input": "2025-03-26T16:26:47.939813Z",
     "iopub.status.busy": "2025-03-26T16:26:47.939298Z",
     "iopub.status.idle": "2025-03-26T16:26:47.952379Z",
     "shell.execute_reply": "2025-03-26T16:26:47.950952Z",
     "shell.execute_reply.started": "2025-03-26T16:26:47.939780Z"
    }
   },
   "outputs": [],
   "source": [
    "num_columns = ['f0', 'f1', 'f2']"
   ]
  },
  {
   "cell_type": "markdown",
   "metadata": {},
   "source": [
    "---\n",
    "    Создадим общий pipeline для подготовки данных\n",
    "---"
   ]
  },
  {
   "cell_type": "code",
   "execution_count": 27,
   "metadata": {
    "execution": {
     "iopub.execute_input": "2025-03-26T16:26:47.953715Z",
     "iopub.status.busy": "2025-03-26T16:26:47.953418Z",
     "iopub.status.idle": "2025-03-26T16:26:47.976071Z",
     "shell.execute_reply": "2025-03-26T16:26:47.975054Z",
     "shell.execute_reply.started": "2025-03-26T16:26:47.953686Z"
    }
   },
   "outputs": [],
   "source": [
    "data_preprocessor = ColumnTransformer(\n",
    "    [\n",
    "     ('num', MinMaxScaler(), num_columns)\n",
    "    ], \n",
    "    remainder='passthrough'\n",
    ")"
   ]
  },
  {
   "cell_type": "markdown",
   "metadata": {},
   "source": [
    "---\n",
    "    Создадим итоговый пайплайн: подготовка данных и модель\n",
    "---"
   ]
  },
  {
   "cell_type": "code",
   "execution_count": 28,
   "metadata": {
    "execution": {
     "iopub.execute_input": "2025-03-26T16:26:47.977239Z",
     "iopub.status.busy": "2025-03-26T16:26:47.976886Z",
     "iopub.status.idle": "2025-03-26T16:26:47.998239Z",
     "shell.execute_reply": "2025-03-26T16:26:47.997445Z",
     "shell.execute_reply.started": "2025-03-26T16:26:47.977208Z"
    }
   },
   "outputs": [],
   "source": [
    "pipe_final = Pipeline([\n",
    "    ('preprocessor', data_preprocessor),\n",
    "    ('models', LinearRegression())\n",
    "])"
   ]
  },
  {
   "cell_type": "markdown",
   "metadata": {},
   "source": [
    "##  Обучение моделей"
   ]
  },
  {
   "cell_type": "markdown",
   "metadata": {},
   "source": [
    "---\n",
    "    Опишем используемые модели\n",
    "---"
   ]
  },
  {
   "cell_type": "code",
   "execution_count": 29,
   "metadata": {
    "execution": {
     "iopub.execute_input": "2025-03-26T16:26:47.999258Z",
     "iopub.status.busy": "2025-03-26T16:26:47.998968Z",
     "iopub.status.idle": "2025-03-26T16:26:48.021077Z",
     "shell.execute_reply": "2025-03-26T16:26:48.020272Z",
     "shell.execute_reply.started": "2025-03-26T16:26:47.999236Z"
    }
   },
   "outputs": [],
   "source": [
    "param_grid = [\n",
    "    {\n",
    "        'models': [LinearRegression()],\n",
    "        'preprocessor__num': [StandardScaler(), MinMaxScaler(), 'passthrough'],\n",
    "        'models__fit_intercept': [True, False]\n",
    "    }\n",
    "]"
   ]
  },
  {
   "cell_type": "markdown",
   "metadata": {},
   "source": [
    "---\n",
    "    Создадим свою метрику для проверки качества модели: SMAPE\n",
    "---"
   ]
  },
  {
   "cell_type": "code",
   "execution_count": 30,
   "metadata": {
    "execution": {
     "iopub.execute_input": "2025-03-26T16:26:48.022286Z",
     "iopub.status.busy": "2025-03-26T16:26:48.021970Z",
     "iopub.status.idle": "2025-03-26T16:26:50.177690Z",
     "shell.execute_reply": "2025-03-26T16:26:50.176253Z",
     "shell.execute_reply.started": "2025-03-26T16:26:48.022259Z"
    }
   },
   "outputs": [
    {
     "name": "stderr",
     "output_type": "stream",
     "text": [
      "/opt/conda/lib/python3.9/site-packages/sklearn/model_selection/_search.py:285: UserWarning: The total space of parameters 6 is smaller than n_iter=10. Running 6 iterations. For exhaustive searches, use GridSearchCV.\n",
      "  warnings.warn(\n"
     ]
    },
    {
     "data": {
      "text/plain": [
       "RandomizedSearchCV(cv=KFold(n_splits=5, random_state=42, shuffle=True),\n",
       "                   estimator=Pipeline(steps=[('preprocessor',\n",
       "                                              ColumnTransformer(remainder='passthrough',\n",
       "                                                                transformers=[('num',\n",
       "                                                                               MinMaxScaler(),\n",
       "                                                                               ['f0',\n",
       "                                                                                'f1',\n",
       "                                                                                'f2'])])),\n",
       "                                             ('models', LinearRegression())]),\n",
       "                   n_jobs=-1,\n",
       "                   param_distributions=[{'models': [LinearRegression()],\n",
       "                                         'models__fit_intercept': [True, False],\n",
       "                                         'preprocessor__num': [StandardScaler(),\n",
       "                                                               MinMaxScaler(),\n",
       "                                                               'passthrough']}],\n",
       "                   random_state=42, scoring='neg_root_mean_squared_error')"
      ]
     },
     "execution_count": 30,
     "metadata": {},
     "output_type": "execute_result"
    }
   ],
   "source": [
    "cv = KFold(n_splits=5, shuffle=True, random_state=RANDOM_STATE)\n",
    "\n",
    "randomized_search_0 = RandomizedSearchCV(\n",
    "    pipe_final, \n",
    "    param_grid, \n",
    "    cv=cv,\n",
    "    scoring='neg_root_mean_squared_error',\n",
    "    random_state=RANDOM_STATE,\n",
    "    n_jobs=-1,\n",
    ")\n",
    "randomized_search_0.fit(X_train, y_train)"
   ]
  },
  {
   "cell_type": "code",
   "execution_count": 31,
   "metadata": {
    "execution": {
     "iopub.execute_input": "2025-03-26T16:26:50.179267Z",
     "iopub.status.busy": "2025-03-26T16:26:50.178867Z",
     "iopub.status.idle": "2025-03-26T16:26:50.189359Z",
     "shell.execute_reply": "2025-03-26T16:26:50.188231Z",
     "shell.execute_reply.started": "2025-03-26T16:26:50.179238Z"
    }
   },
   "outputs": [
    {
     "name": "stdout",
     "output_type": "stream",
     "text": [
      "Лучшая модель и её параметры:\n",
      "\n",
      " Pipeline(steps=[('preprocessor',\n",
      "                 ColumnTransformer(remainder='passthrough',\n",
      "                                   transformers=[('num', StandardScaler(),\n",
      "                                                  ['f0', 'f1', 'f2'])])),\n",
      "                ('models', LinearRegression())])\n",
      "Метрика лучшей модели на валидационной выборке: -37.67153508430459\n"
     ]
    }
   ],
   "source": [
    "print('Лучшая модель и её параметры:\\n\\n', randomized_search_0.best_estimator_)\n",
    "print ('Метрика лучшей модели на валидационной выборке:', randomized_search_0.best_score_)"
   ]
  },
  {
   "cell_type": "markdown",
   "metadata": {
    "execution": {
     "iopub.execute_input": "2024-10-11T13:18:36.481920Z",
     "iopub.status.busy": "2024-10-11T13:18:36.481554Z",
     "iopub.status.idle": "2024-10-11T13:18:36.757862Z",
     "shell.execute_reply": "2024-10-11T13:18:36.756585Z",
     "shell.execute_reply.started": "2024-10-11T13:18:36.481880Z"
    }
   },
   "source": [
    "---\n",
    "    Проверим работу модели на валидационной выборке\n",
    "---"
   ]
  },
  {
   "cell_type": "code",
   "execution_count": 32,
   "metadata": {
    "execution": {
     "iopub.execute_input": "2025-03-26T16:26:50.190190Z",
     "iopub.status.busy": "2025-03-26T16:26:50.189901Z",
     "iopub.status.idle": "2025-03-26T16:26:50.220831Z",
     "shell.execute_reply": "2025-03-26T16:26:50.219689Z",
     "shell.execute_reply.started": "2025-03-26T16:26:50.190165Z"
    }
   },
   "outputs": [
    {
     "name": "stdout",
     "output_type": "stream",
     "text": [
      "Средний запас предсказанного сырья: 92.39879990657768\n",
      "Метрика RMSE на тестовой выборке: 37.75660035026169\n"
     ]
    }
   ],
   "source": [
    "y_test_pred_0 = randomized_search_0.predict(X_test)\n",
    "\n",
    "rmse_0 = np.sqrt(mean_squared_error(y_test, y_test_pred_0))\n",
    "\n",
    "print(f'Средний запас предсказанного сырья: {y_test_pred_0.mean()}' )\n",
    "print(f'Метрика RMSE на тестовой выборке: {rmse_0}')"
   ]
  },
  {
   "cell_type": "markdown",
   "metadata": {},
   "source": [
    "___\n",
    "    geo_data_0\n",
    "    \n",
    "    RMSE слишком большое для такого среднего запаса сырья. Разброс от правильных значений получается +- 40%\n",
    "    Выбранная модель по условиям задачи: LinearRegression()\n",
    "___"
   ]
  },
  {
   "cell_type": "markdown",
   "metadata": {},
   "source": [
    "___\n",
    "    Обучим и проверим модель для региона geo_data_1\n",
    "___"
   ]
  },
  {
   "cell_type": "code",
   "execution_count": 33,
   "metadata": {
    "execution": {
     "iopub.execute_input": "2025-03-26T16:26:50.221853Z",
     "iopub.status.busy": "2025-03-26T16:26:50.221644Z",
     "iopub.status.idle": "2025-03-26T16:26:50.244319Z",
     "shell.execute_reply": "2025-03-26T16:26:50.243239Z",
     "shell.execute_reply.started": "2025-03-26T16:26:50.221835Z"
    }
   },
   "outputs": [
    {
     "data": {
      "text/plain": [
       "((75000, 3), (25000, 3))"
      ]
     },
     "execution_count": 33,
     "metadata": {},
     "output_type": "execute_result"
    }
   ],
   "source": [
    "X_train, X_test, y_train, y_test = train_test_split(\n",
    "    df_geo_data_1.drop(['product', 'id'], axis=1),\n",
    "    df_geo_data_1['product'],\n",
    "    test_size = TEST_SIZE, \n",
    "    random_state = RANDOM_STATE,)\n",
    "\n",
    "X_train.shape, X_test.shape"
   ]
  },
  {
   "cell_type": "code",
   "execution_count": 34,
   "metadata": {
    "execution": {
     "iopub.execute_input": "2025-03-26T16:26:50.245756Z",
     "iopub.status.busy": "2025-03-26T16:26:50.245402Z",
     "iopub.status.idle": "2025-03-26T16:26:50.769955Z",
     "shell.execute_reply": "2025-03-26T16:26:50.769212Z",
     "shell.execute_reply.started": "2025-03-26T16:26:50.245724Z"
    }
   },
   "outputs": [
    {
     "name": "stderr",
     "output_type": "stream",
     "text": [
      "/opt/conda/lib/python3.9/site-packages/sklearn/model_selection/_search.py:285: UserWarning: The total space of parameters 6 is smaller than n_iter=10. Running 6 iterations. For exhaustive searches, use GridSearchCV.\n",
      "  warnings.warn(\n"
     ]
    },
    {
     "data": {
      "text/plain": [
       "RandomizedSearchCV(cv=KFold(n_splits=5, random_state=42, shuffle=True),\n",
       "                   estimator=Pipeline(steps=[('preprocessor',\n",
       "                                              ColumnTransformer(remainder='passthrough',\n",
       "                                                                transformers=[('num',\n",
       "                                                                               MinMaxScaler(),\n",
       "                                                                               ['f0',\n",
       "                                                                                'f1',\n",
       "                                                                                'f2'])])),\n",
       "                                             ('models', LinearRegression())]),\n",
       "                   n_jobs=-1,\n",
       "                   param_distributions=[{'models': [LinearRegression()],\n",
       "                                         'models__fit_intercept': [True, False],\n",
       "                                         'preprocessor__num': [StandardScaler(),\n",
       "                                                               MinMaxScaler(),\n",
       "                                                               'passthrough']}],\n",
       "                   random_state=42, scoring='neg_root_mean_squared_error')"
      ]
     },
     "execution_count": 34,
     "metadata": {},
     "output_type": "execute_result"
    }
   ],
   "source": [
    "randomized_search_1 = RandomizedSearchCV(\n",
    "    pipe_final, \n",
    "    param_grid, \n",
    "    cv=cv,\n",
    "    scoring='neg_root_mean_squared_error',\n",
    "    random_state=RANDOM_STATE,\n",
    "    n_jobs=-1,\n",
    ")\n",
    "\n",
    "randomized_search_1.fit(X_train, y_train)"
   ]
  },
  {
   "cell_type": "code",
   "execution_count": 35,
   "metadata": {
    "execution": {
     "iopub.execute_input": "2025-03-26T16:26:50.770984Z",
     "iopub.status.busy": "2025-03-26T16:26:50.770667Z",
     "iopub.status.idle": "2025-03-26T16:26:50.777362Z",
     "shell.execute_reply": "2025-03-26T16:26:50.776558Z",
     "shell.execute_reply.started": "2025-03-26T16:26:50.770927Z"
    }
   },
   "outputs": [
    {
     "name": "stdout",
     "output_type": "stream",
     "text": [
      "Лучшая модель и её параметры:\n",
      "\n",
      " Pipeline(steps=[('preprocessor',\n",
      "                 ColumnTransformer(remainder='passthrough',\n",
      "                                   transformers=[('num', StandardScaler(),\n",
      "                                                  ['f0', 'f1', 'f2'])])),\n",
      "                ('models', LinearRegression())])\n",
      "Метрика лучшей модели на валидационной выборке: -0.8904429854747921\n"
     ]
    }
   ],
   "source": [
    "print('Лучшая модель и её параметры:\\n\\n', randomized_search_1.best_estimator_)\n",
    "print ('Метрика лучшей модели на валидационной выборке:', randomized_search_1.best_score_)"
   ]
  },
  {
   "cell_type": "code",
   "execution_count": 36,
   "metadata": {
    "execution": {
     "iopub.execute_input": "2025-03-26T16:26:50.778349Z",
     "iopub.status.busy": "2025-03-26T16:26:50.778114Z",
     "iopub.status.idle": "2025-03-26T16:26:50.801315Z",
     "shell.execute_reply": "2025-03-26T16:26:50.800206Z",
     "shell.execute_reply.started": "2025-03-26T16:26:50.778326Z"
    }
   },
   "outputs": [
    {
     "name": "stdout",
     "output_type": "stream",
     "text": [
      "Средний запас предсказанного сырья: 68.7128780391376\n",
      "Метрика RMSE на тестовой выборке: 0.8902801001028846\n"
     ]
    }
   ],
   "source": [
    "y_test_pred_1 = randomized_search_1.predict(X_test)\n",
    "\n",
    "rmse_1 = np.sqrt(mean_squared_error(y_test, y_test_pred_1))\n",
    "\n",
    "print(f'Средний запас предсказанного сырья: {y_test_pred_1.mean()}' )\n",
    "print(f'Метрика RMSE на тестовой выборке: {rmse_1}')"
   ]
  },
  {
   "cell_type": "markdown",
   "metadata": {},
   "source": [
    "___\n",
    "    geo_data_1\n",
    "    \n",
    "    Из-за корреляции в 0.98, линейная модель хорошо обучилась предсказывать по метрике f2 и почти не ошибается\n",
    "    Выбранная модель по условиям задачи: LinearRegression()\n",
    "___"
   ]
  },
  {
   "cell_type": "markdown",
   "metadata": {},
   "source": [
    "___\n",
    "    Обучим и проверим модель для региона geo_data_2\n",
    "___"
   ]
  },
  {
   "cell_type": "code",
   "execution_count": 37,
   "metadata": {
    "execution": {
     "iopub.execute_input": "2025-03-26T16:26:50.802918Z",
     "iopub.status.busy": "2025-03-26T16:26:50.802560Z",
     "iopub.status.idle": "2025-03-26T16:26:50.827142Z",
     "shell.execute_reply": "2025-03-26T16:26:50.826351Z",
     "shell.execute_reply.started": "2025-03-26T16:26:50.802883Z"
    }
   },
   "outputs": [
    {
     "data": {
      "text/plain": [
       "((75000, 3), (25000, 3))"
      ]
     },
     "execution_count": 37,
     "metadata": {},
     "output_type": "execute_result"
    }
   ],
   "source": [
    "X_train, X_test, y_train, y_test = train_test_split(\n",
    "    df_geo_data_2.drop(['product', 'id'], axis=1),\n",
    "    df_geo_data_2['product'],\n",
    "    test_size = TEST_SIZE, \n",
    "    random_state = RANDOM_STATE,)\n",
    "\n",
    "X_train.shape, X_test.shape"
   ]
  },
  {
   "cell_type": "code",
   "execution_count": 38,
   "metadata": {
    "execution": {
     "iopub.execute_input": "2025-03-26T16:26:50.828105Z",
     "iopub.status.busy": "2025-03-26T16:26:50.827864Z",
     "iopub.status.idle": "2025-03-26T16:26:51.337859Z",
     "shell.execute_reply": "2025-03-26T16:26:51.337010Z",
     "shell.execute_reply.started": "2025-03-26T16:26:50.828084Z"
    }
   },
   "outputs": [
    {
     "name": "stderr",
     "output_type": "stream",
     "text": [
      "/opt/conda/lib/python3.9/site-packages/sklearn/model_selection/_search.py:285: UserWarning: The total space of parameters 6 is smaller than n_iter=10. Running 6 iterations. For exhaustive searches, use GridSearchCV.\n",
      "  warnings.warn(\n"
     ]
    },
    {
     "data": {
      "text/plain": [
       "RandomizedSearchCV(cv=KFold(n_splits=5, random_state=42, shuffle=True),\n",
       "                   estimator=Pipeline(steps=[('preprocessor',\n",
       "                                              ColumnTransformer(remainder='passthrough',\n",
       "                                                                transformers=[('num',\n",
       "                                                                               MinMaxScaler(),\n",
       "                                                                               ['f0',\n",
       "                                                                                'f1',\n",
       "                                                                                'f2'])])),\n",
       "                                             ('models', LinearRegression())]),\n",
       "                   n_jobs=-1,\n",
       "                   param_distributions=[{'models': [LinearRegression()],\n",
       "                                         'models__fit_intercept': [True, False],\n",
       "                                         'preprocessor__num': [StandardScaler(),\n",
       "                                                               MinMaxScaler(),\n",
       "                                                               'passthrough']}],\n",
       "                   random_state=42, scoring='neg_root_mean_squared_error')"
      ]
     },
     "execution_count": 38,
     "metadata": {},
     "output_type": "execute_result"
    }
   ],
   "source": [
    "randomized_search_2 = RandomizedSearchCV(\n",
    "    pipe_final, \n",
    "    param_grid, \n",
    "    cv=cv,\n",
    "    scoring='neg_root_mean_squared_error',\n",
    "    random_state=RANDOM_STATE,\n",
    "    n_jobs=-1,\n",
    ")\n",
    "\n",
    "randomized_search_2.fit(X_train, y_train)"
   ]
  },
  {
   "cell_type": "code",
   "execution_count": 39,
   "metadata": {
    "execution": {
     "iopub.execute_input": "2025-03-26T16:26:51.338798Z",
     "iopub.status.busy": "2025-03-26T16:26:51.338588Z",
     "iopub.status.idle": "2025-03-26T16:26:51.346441Z",
     "shell.execute_reply": "2025-03-26T16:26:51.345425Z",
     "shell.execute_reply.started": "2025-03-26T16:26:51.338779Z"
    }
   },
   "outputs": [
    {
     "name": "stdout",
     "output_type": "stream",
     "text": [
      "Лучшая модель и её параметры:\n",
      "\n",
      " Pipeline(steps=[('preprocessor',\n",
      "                 ColumnTransformer(remainder='passthrough',\n",
      "                                   transformers=[('num', StandardScaler(),\n",
      "                                                  ['f0', 'f1', 'f2'])])),\n",
      "                ('models', LinearRegression())])\n",
      "Метрика лучшей модели на валидационной выборке: -40.02672829222863\n"
     ]
    }
   ],
   "source": [
    "print('Лучшая модель и её параметры:\\n\\n', randomized_search_2.best_estimator_)\n",
    "print ('Метрика лучшей модели на валидационной выборке:', randomized_search_2.best_score_)"
   ]
  },
  {
   "cell_type": "code",
   "execution_count": 40,
   "metadata": {
    "execution": {
     "iopub.execute_input": "2025-03-26T16:26:51.347500Z",
     "iopub.status.busy": "2025-03-26T16:26:51.347233Z",
     "iopub.status.idle": "2025-03-26T16:26:51.376776Z",
     "shell.execute_reply": "2025-03-26T16:26:51.375982Z",
     "shell.execute_reply.started": "2025-03-26T16:26:51.347475Z"
    }
   },
   "outputs": [
    {
     "name": "stdout",
     "output_type": "stream",
     "text": [
      "Средний запас предсказанного сырья: 94.77102387765939\n",
      "Метрика RMSE на тестовой выборке: 40.145872311342174\n"
     ]
    }
   ],
   "source": [
    "y_test_pred_2 = randomized_search_2.predict(X_test)\n",
    "\n",
    "rmse_2 = np.sqrt(mean_squared_error(y_test, y_test_pred_2))\n",
    "\n",
    "print(f'Средний запас предсказанного сырья: {y_test_pred_2.mean()}' )\n",
    "print(f'Метрика RMSE на тестовой выборке: {rmse_2}')"
   ]
  },
  {
   "cell_type": "markdown",
   "metadata": {},
   "source": [
    "___\n",
    "    geo_data_2\n",
    "    \n",
    "    Результаты похожие на geo_data_0. Метрика RMSE слишком большая и  имеет отклонение в +- 40%\n",
    "    Выбранная модель по условиям задачи: LinearRegression()\n",
    "___"
   ]
  },
  {
   "cell_type": "markdown",
   "metadata": {},
   "source": [
    "___\n",
    "**Вывод**\n",
    "\n",
    "    Выбранная модель по условиям задачи: LinearRegression()\n",
    "    \n",
    "    Результаты geo_data_0 и geo_data_2 похожи друг на друга. Метрика RMSE слишком большая и имеет отклонение в +- 40%\n",
    "    В geo_data_0 из-за корреляции в 0.98, линейная модель хорошо обучилась предсказывать по метрике f2 и почти не ошибается \n",
    "___"
   ]
  },
  {
   "cell_type": "markdown",
   "metadata": {},
   "source": [
    "## Подготовка к расчёту прибыли"
   ]
  },
  {
   "cell_type": "markdown",
   "metadata": {},
   "source": [
    "___\n",
    "    На этом этапе нам необходимо:\n",
    "    1. Рассчитать достаточный объём сырья для безубыточной разработки новой скважины\n",
    "    2. Сравнить полученный объём сырья со средним запасом в каждом регионе.\n",
    "___"
   ]
  },
  {
   "cell_type": "markdown",
   "metadata": {},
   "source": [
    "___\n",
    "    По условии задачи:\n",
    "    1. Бюджет на разработку скважин в регионе — 10 млрд рублей.\n",
    "    2. Один баррель сырья приносит 450 рублей дохода\n",
    "    \n",
    "    Следовательно, нам необходимо рассчитать, \n",
    "    какое кол-во баррелей сырья нам необходимо добыть для преодоления бюджета в 10 млрд рублей.\n",
    "___"
   ]
  },
  {
   "cell_type": "code",
   "execution_count": 41,
   "metadata": {
    "execution": {
     "iopub.execute_input": "2025-03-26T16:26:51.377900Z",
     "iopub.status.busy": "2025-03-26T16:26:51.377617Z",
     "iopub.status.idle": "2025-03-26T16:26:51.394312Z",
     "shell.execute_reply": "2025-03-26T16:26:51.393094Z",
     "shell.execute_reply.started": "2025-03-26T16:26:51.377871Z"
    }
   },
   "outputs": [
    {
     "name": "stdout",
     "output_type": "stream",
     "text": [
      "Достаточный объём сырья для безубыточной разработки новой скважины составляет 22222 тысяч баррелей\n"
     ]
    }
   ],
   "source": [
    "print(f'Достаточный объём сырья для безубыточной разработки новой скважины составляет {round(10000000000 / 450 / 1000)} тысяч баррелей')"
   ]
  },
  {
   "cell_type": "code",
   "execution_count": 42,
   "metadata": {
    "execution": {
     "iopub.execute_input": "2025-03-26T16:26:51.395511Z",
     "iopub.status.busy": "2025-03-26T16:26:51.395249Z",
     "iopub.status.idle": "2025-03-26T16:26:51.478782Z",
     "shell.execute_reply": "2025-03-26T16:26:51.477659Z",
     "shell.execute_reply.started": "2025-03-26T16:26:51.395490Z"
    }
   },
   "outputs": [
    {
     "name": "stdout",
     "output_type": "stream",
     "text": [
      "Объем первого региона 200 скважин, в среднеим составляет 18500 тысяч баррелей\n",
      "Объем второго региона 200 скважин, в среднеим составляет 13765 тысяч баррелей\n",
      "Объем третьего региона 200 скважин, в среднеим составляет 19000 тысяч баррелей\n"
     ]
    }
   ],
   "source": [
    "sum_product_0 = round(df_geo_data_0['product'].mean() * 200 )\n",
    "print(f'Объем первого региона 200 скважин, в среднеим составляет {sum_product_0} тысяч баррелей')\n",
    "\n",
    "sum_product_1 = round(df_geo_data_1['product'].mean() * 200 )\n",
    "print(f'Объем второго региона 200 скважин, в среднеим составляет {sum_product_1} тысяч баррелей')\n",
    "\n",
    "sum_product_2 = round(df_geo_data_2['product'].mean() * 200 )\n",
    "print(f'Объем третьего региона 200 скважин, в среднеим составляет {sum_product_2} тысяч баррелей')"
   ]
  },
  {
   "cell_type": "markdown",
   "metadata": {},
   "source": [
    "___\n",
    "**Вывод**\n",
    "    В среднем, объемы регионов не доходят до того, чтобы окупить бюджет на разработку скважин в регионе\n",
    "    Но первый и третий регионы являются самыми выгодными по имеющимся запасами сырья (18500-19000тыс баррелей)\n",
    "___"
   ]
  },
  {
   "cell_type": "markdown",
   "metadata": {},
   "source": [
    "## Расчёт прибыли"
   ]
  },
  {
   "cell_type": "markdown",
   "metadata": {},
   "source": [
    "___\n",
    "    На этом этапе нам  необходимо:\n",
    "    1. Выбрать скважины с максимальными значениями предсказаний. \n",
    "    2. Просуммировать целевое значение объёма сырья, соответствующее этим предсказаниям.\n",
    "    3. Рассчитать прибыль для полученного объёма сырья.\n",
    "___"
   ]
  },
  {
   "cell_type": "markdown",
   "metadata": {},
   "source": [
    "___\n",
    "    По условиям задачи выбирают 200 лучших скважин для разработки\n",
    "    Необходимо выбрать регион с 200 самыми перспективными скважинами\n",
    "\n",
    "    Т.к. во всех датасетах одинаковое кол-во скважин, \n",
    "    а ранее мы выяснили, что в третьем регионе больше запасов ресурсов, то выберем этот регион\n",
    "___"
   ]
  },
  {
   "cell_type": "code",
   "execution_count": 43,
   "metadata": {
    "execution": {
     "iopub.execute_input": "2025-03-26T16:26:51.479869Z",
     "iopub.status.busy": "2025-03-26T16:26:51.479631Z",
     "iopub.status.idle": "2025-03-26T16:26:51.490876Z",
     "shell.execute_reply": "2025-03-26T16:26:51.489660Z",
     "shell.execute_reply.started": "2025-03-26T16:26:51.479850Z"
    }
   },
   "outputs": [
    {
     "data": {
      "text/html": [
       "<div>\n",
       "<style scoped>\n",
       "    .dataframe tbody tr th:only-of-type {\n",
       "        vertical-align: middle;\n",
       "    }\n",
       "\n",
       "    .dataframe tbody tr th {\n",
       "        vertical-align: top;\n",
       "    }\n",
       "\n",
       "    .dataframe thead th {\n",
       "        text-align: right;\n",
       "    }\n",
       "</style>\n",
       "<table border=\"1\" class=\"dataframe\">\n",
       "  <thead>\n",
       "    <tr style=\"text-align: right;\">\n",
       "      <th></th>\n",
       "      <th>id</th>\n",
       "      <th>f0</th>\n",
       "      <th>f1</th>\n",
       "      <th>f2</th>\n",
       "      <th>product</th>\n",
       "      <th>predicted_product</th>\n",
       "    </tr>\n",
       "  </thead>\n",
       "  <tbody>\n",
       "    <tr>\n",
       "      <th>3540</th>\n",
       "      <td>4KBhu</td>\n",
       "      <td>-2.548791</td>\n",
       "      <td>3.210600</td>\n",
       "      <td>16.739402</td>\n",
       "      <td>154.062998</td>\n",
       "      <td>176.976289</td>\n",
       "    </tr>\n",
       "    <tr>\n",
       "      <th>98714</th>\n",
       "      <td>C6aBZ</td>\n",
       "      <td>-0.209583</td>\n",
       "      <td>1.174825</td>\n",
       "      <td>16.357645</td>\n",
       "      <td>98.664401</td>\n",
       "      <td>174.615753</td>\n",
       "    </tr>\n",
       "    <tr>\n",
       "      <th>25463</th>\n",
       "      <td>mMCBz</td>\n",
       "      <td>-1.623992</td>\n",
       "      <td>-3.263073</td>\n",
       "      <td>16.313011</td>\n",
       "      <td>166.293929</td>\n",
       "      <td>174.546751</td>\n",
       "    </tr>\n",
       "    <tr>\n",
       "      <th>6647</th>\n",
       "      <td>AaIO6</td>\n",
       "      <td>1.046668</td>\n",
       "      <td>-1.970502</td>\n",
       "      <td>16.252444</td>\n",
       "      <td>152.294162</td>\n",
       "      <td>173.953743</td>\n",
       "    </tr>\n",
       "    <tr>\n",
       "      <th>69502</th>\n",
       "      <td>OYrnh</td>\n",
       "      <td>-1.145417</td>\n",
       "      <td>-0.650543</td>\n",
       "      <td>16.223146</td>\n",
       "      <td>121.349438</td>\n",
       "      <td>173.949349</td>\n",
       "    </tr>\n",
       "  </tbody>\n",
       "</table>\n",
       "</div>"
      ],
      "text/plain": [
       "          id        f0        f1         f2     product  predicted_product\n",
       "3540   4KBhu -2.548791  3.210600  16.739402  154.062998         176.976289\n",
       "98714  C6aBZ -0.209583  1.174825  16.357645   98.664401         174.615753\n",
       "25463  mMCBz -1.623992 -3.263073  16.313011  166.293929         174.546751\n",
       "6647   AaIO6  1.046668 -1.970502  16.252444  152.294162         173.953743\n",
       "69502  OYrnh -1.145417 -0.650543  16.223146  121.349438         173.949349"
      ]
     },
     "execution_count": 43,
     "metadata": {},
     "output_type": "execute_result"
    }
   ],
   "source": [
    "features = ['f0', 'f1', 'f2']\n",
    "predictions = randomized_search_2.predict(df_geo_data_2[features])\n",
    "\n",
    "df_geo_data_2['predicted_product'] = predictions\n",
    "best_boreholes_2 = df_geo_data_2.sort_values(by='predicted_product', ascending=False)[:500]\n",
    "best_boreholes_2.head()"
   ]
  },
  {
   "cell_type": "code",
   "execution_count": 44,
   "metadata": {
    "execution": {
     "iopub.execute_input": "2025-03-26T16:26:51.528489Z",
     "iopub.status.busy": "2025-03-26T16:26:51.528269Z",
     "iopub.status.idle": "2025-03-26T16:26:51.574969Z",
     "shell.execute_reply": "2025-03-26T16:26:51.573815Z",
     "shell.execute_reply.started": "2025-03-26T16:26:51.528470Z"
    }
   },
   "outputs": [
    {
     "data": {
      "text/html": [
       "<div>\n",
       "<style scoped>\n",
       "    .dataframe tbody tr th:only-of-type {\n",
       "        vertical-align: middle;\n",
       "    }\n",
       "\n",
       "    .dataframe tbody tr th {\n",
       "        vertical-align: top;\n",
       "    }\n",
       "\n",
       "    .dataframe thead th {\n",
       "        text-align: right;\n",
       "    }\n",
       "</style>\n",
       "<table border=\"1\" class=\"dataframe\">\n",
       "  <thead>\n",
       "    <tr style=\"text-align: right;\">\n",
       "      <th></th>\n",
       "      <th>id</th>\n",
       "      <th>f0</th>\n",
       "      <th>f1</th>\n",
       "      <th>f2</th>\n",
       "      <th>product</th>\n",
       "      <th>predicted_product</th>\n",
       "    </tr>\n",
       "  </thead>\n",
       "  <tbody>\n",
       "    <tr>\n",
       "      <th>51140</th>\n",
       "      <td>QFDWZ</td>\n",
       "      <td>1.092258</td>\n",
       "      <td>-0.541900</td>\n",
       "      <td>16.003790</td>\n",
       "      <td>182.079984</td>\n",
       "      <td>195.101959</td>\n",
       "    </tr>\n",
       "    <tr>\n",
       "      <th>83095</th>\n",
       "      <td>xuWxm</td>\n",
       "      <td>1.888221</td>\n",
       "      <td>0.067384</td>\n",
       "      <td>15.428372</td>\n",
       "      <td>144.009283</td>\n",
       "      <td>185.669565</td>\n",
       "    </tr>\n",
       "    <tr>\n",
       "      <th>51464</th>\n",
       "      <td>Fgte6</td>\n",
       "      <td>1.612452</td>\n",
       "      <td>-0.074593</td>\n",
       "      <td>15.230322</td>\n",
       "      <td>173.971897</td>\n",
       "      <td>185.331543</td>\n",
       "    </tr>\n",
       "    <tr>\n",
       "      <th>93073</th>\n",
       "      <td>S96Jh</td>\n",
       "      <td>1.814871</td>\n",
       "      <td>-0.207268</td>\n",
       "      <td>14.087536</td>\n",
       "      <td>162.810993</td>\n",
       "      <td>180.464229</td>\n",
       "    </tr>\n",
       "    <tr>\n",
       "      <th>52356</th>\n",
       "      <td>R5IYz</td>\n",
       "      <td>0.879559</td>\n",
       "      <td>0.258449</td>\n",
       "      <td>15.202838</td>\n",
       "      <td>123.920559</td>\n",
       "      <td>177.592367</td>\n",
       "    </tr>\n",
       "  </tbody>\n",
       "</table>\n",
       "</div>"
      ],
      "text/plain": [
       "          id        f0        f1         f2     product  predicted_product\n",
       "51140  QFDWZ  1.092258 -0.541900  16.003790  182.079984         195.101959\n",
       "83095  xuWxm  1.888221  0.067384  15.428372  144.009283         185.669565\n",
       "51464  Fgte6  1.612452 -0.074593  15.230322  173.971897         185.331543\n",
       "93073  S96Jh  1.814871 -0.207268  14.087536  162.810993         180.464229\n",
       "52356  R5IYz  0.879559  0.258449  15.202838  123.920559         177.592367"
      ]
     },
     "execution_count": 44,
     "metadata": {},
     "output_type": "execute_result"
    }
   ],
   "source": [
    "predictions = randomized_search_0.predict(df_geo_data_0[features])\n",
    "df_geo_data_0['predicted_product'] = predictions\n",
    "\n",
    "best_boreholes_0 = df_geo_data_0.sort_values(by='predicted_product', ascending=False)[:500]\n",
    "best_boreholes_0.head()"
   ]
  },
  {
   "cell_type": "code",
   "execution_count": 45,
   "metadata": {
    "execution": {
     "iopub.execute_input": "2025-03-26T16:26:51.576446Z",
     "iopub.status.busy": "2025-03-26T16:26:51.576099Z",
     "iopub.status.idle": "2025-03-26T16:26:51.620857Z",
     "shell.execute_reply": "2025-03-26T16:26:51.620107Z",
     "shell.execute_reply.started": "2025-03-26T16:26:51.576419Z"
    }
   },
   "outputs": [
    {
     "data": {
      "text/html": [
       "<div>\n",
       "<style scoped>\n",
       "    .dataframe tbody tr th:only-of-type {\n",
       "        vertical-align: middle;\n",
       "    }\n",
       "\n",
       "    .dataframe tbody tr th {\n",
       "        vertical-align: top;\n",
       "    }\n",
       "\n",
       "    .dataframe thead th {\n",
       "        text-align: right;\n",
       "    }\n",
       "</style>\n",
       "<table border=\"1\" class=\"dataframe\">\n",
       "  <thead>\n",
       "    <tr style=\"text-align: right;\">\n",
       "      <th></th>\n",
       "      <th>id</th>\n",
       "      <th>f0</th>\n",
       "      <th>f1</th>\n",
       "      <th>f2</th>\n",
       "      <th>product</th>\n",
       "      <th>predicted_product</th>\n",
       "    </tr>\n",
       "  </thead>\n",
       "  <tbody>\n",
       "    <tr>\n",
       "      <th>26531</th>\n",
       "      <td>yLbdW</td>\n",
       "      <td>-26.646255</td>\n",
       "      <td>-1.531112</td>\n",
       "      <td>5.001941</td>\n",
       "      <td>137.945408</td>\n",
       "      <td>140.360110</td>\n",
       "    </tr>\n",
       "    <tr>\n",
       "      <th>80439</th>\n",
       "      <td>kpPCd</td>\n",
       "      <td>-23.884180</td>\n",
       "      <td>-3.773158</td>\n",
       "      <td>5.001008</td>\n",
       "      <td>137.945408</td>\n",
       "      <td>139.983277</td>\n",
       "    </tr>\n",
       "    <tr>\n",
       "      <th>55165</th>\n",
       "      <td>wcKNk</td>\n",
       "      <td>-22.107811</td>\n",
       "      <td>-5.342910</td>\n",
       "      <td>5.006254</td>\n",
       "      <td>137.945408</td>\n",
       "      <td>139.901279</td>\n",
       "    </tr>\n",
       "    <tr>\n",
       "      <th>42738</th>\n",
       "      <td>XLXvP</td>\n",
       "      <td>-19.384167</td>\n",
       "      <td>-15.314765</td>\n",
       "      <td>5.010972</td>\n",
       "      <td>137.945408</td>\n",
       "      <td>139.849860</td>\n",
       "    </tr>\n",
       "    <tr>\n",
       "      <th>38665</th>\n",
       "      <td>vz1OW</td>\n",
       "      <td>-19.348001</td>\n",
       "      <td>-14.265995</td>\n",
       "      <td>5.010731</td>\n",
       "      <td>137.945408</td>\n",
       "      <td>139.815396</td>\n",
       "    </tr>\n",
       "  </tbody>\n",
       "</table>\n",
       "</div>"
      ],
      "text/plain": [
       "          id         f0         f1        f2     product  predicted_product\n",
       "26531  yLbdW -26.646255  -1.531112  5.001941  137.945408         140.360110\n",
       "80439  kpPCd -23.884180  -3.773158  5.001008  137.945408         139.983277\n",
       "55165  wcKNk -22.107811  -5.342910  5.006254  137.945408         139.901279\n",
       "42738  XLXvP -19.384167 -15.314765  5.010972  137.945408         139.849860\n",
       "38665  vz1OW -19.348001 -14.265995  5.010731  137.945408         139.815396"
      ]
     },
     "execution_count": 45,
     "metadata": {},
     "output_type": "execute_result"
    }
   ],
   "source": [
    "predictions = randomized_search_1.predict(df_geo_data_1[features])\n",
    "df_geo_data_1['predicted_product'] = predictions\n",
    "\n",
    "best_boreholes_1 = df_geo_data_1.sort_values(by='predicted_product', ascending=False)[:500]\n",
    "best_boreholes_1.head()"
   ]
  },
  {
   "cell_type": "markdown",
   "metadata": {},
   "source": [
    "___\n",
    "    Напишем функцию для расчёта прибыли по выбранным скважинам и предсказаниям модели\n",
    "___"
   ]
  },
  {
   "cell_type": "code",
   "execution_count": 46,
   "metadata": {},
   "outputs": [],
   "source": [
    "def get_revenue(df):\n",
    "    top_200 = df.sort_values(by='predicted_product', ascending=False)[:200]\n",
    "    sum_target = top_200['product'].sum()\n",
    "    revenue = round(sum_target * 450_000 - 10_000_000_000)\n",
    "    \n",
    "    return round(sum_target), revenue"
   ]
  },
  {
   "cell_type": "code",
   "execution_count": 47,
   "metadata": {},
   "outputs": [
    {
     "name": "stdout",
     "output_type": "stream",
     "text": [
      "Первый регион\n",
      "Кол-во баррелей в выбранных скважинах: 30056 тыс.\n",
      "Прибыль по выбранным скважинам составляет 3525175505 рублей\n"
     ]
    }
   ],
   "source": [
    "bar_0, revenue_0 = get_revenue(df_geo_data_0)\n",
    "print('Первый регион')\n",
    "print(f'Кол-во баррелей в выбранных скважинах: {bar_0} тыс.')\n",
    "print(f'Прибыль по выбранным скважинам составляет {revenue_0} рублей')"
   ]
  },
  {
   "cell_type": "code",
   "execution_count": 48,
   "metadata": {},
   "outputs": [
    {
     "name": "stdout",
     "output_type": "stream",
     "text": [
      "Второй регион\n",
      "Кол-во баррелей в выбранных скважинах: 27589 тыс.\n",
      "Прибыль по выбранным скважинам составляет 2415086697 рублей\n"
     ]
    }
   ],
   "source": [
    "bar_1, revenue_1 = get_revenue(df_geo_data_1)\n",
    "print('Второй регион')\n",
    "print(f'Кол-во баррелей в выбранных скважинах: {bar_1} тыс.')\n",
    "print(f'Прибыль по выбранным скважинам составляет {revenue_1} рублей')"
   ]
  },
  {
   "cell_type": "code",
   "execution_count": 49,
   "metadata": {},
   "outputs": [
    {
     "name": "stdout",
     "output_type": "stream",
     "text": [
      "Третий регион\n",
      "Кол-во баррелей в выбранных скважинах: 27991 тыс.\n",
      "Прибыль по выбранным скважинам составляет 2595973993 рублей\n"
     ]
    }
   ],
   "source": [
    "bar_2, revenue_2 = get_revenue(df_geo_data_2)\n",
    "print('Третий регион')\n",
    "print(f'Кол-во баррелей в выбранных скважинах: {bar_2} тыс.')\n",
    "print(f'Прибыль по выбранным скважинам составляет {revenue_2} рублей')"
   ]
  },
  {
   "cell_type": "markdown",
   "metadata": {},
   "source": [
    "___\n",
    "**Вывод**\n",
    "\n",
    "    Самым ценным является первый регион\n",
    "    У его самых перспективных 200 скважин, в сумме 30056 тыс баррелей, что достаточно для окупаемости\n",
    "    Прибыль от такого кол-ва сырья составит: 3,525,175,505 рублей\n",
    "___"
   ]
  },
  {
   "cell_type": "markdown",
   "metadata": {},
   "source": [
    "## Риски и прибыль"
   ]
  },
  {
   "cell_type": "markdown",
   "metadata": {},
   "source": [
    "___\n",
    "    На этом этапе нам  необходимо:\n",
    "    1. Применить технику Bootstrap с 1000 выборок, чтобы найти распределение прибыли.\n",
    "    2. Найти среднюю прибыль, 95%-й доверительный интервал и риск убытков\n",
    "    3. Написать вывод и предложить регион для разработки скважин.\n",
    "___"
   ]
  },
  {
   "cell_type": "markdown",
   "metadata": {},
   "source": [
    "___\n",
    "    По условиям задачи:\n",
    "    \n",
    "    После оценки рисков нужно оставить лишь те регионы, \n",
    "    в которых вероятность убытков меньше 2.5%. \n",
    "    Среди них выбирают регион с наибольшей средней прибылью.\n",
    "___"
   ]
  },
  {
   "cell_type": "markdown",
   "metadata": {},
   "source": [
    "___\n",
    "    Напишем функцию для нахождения средней прибыли, 95%-го доверительного интервала и риск убытков\n",
    "___"
   ]
  },
  {
   "cell_type": "code",
   "execution_count": 50,
   "metadata": {
    "execution": {
     "iopub.execute_input": "2025-03-26T16:26:51.650985Z",
     "iopub.status.busy": "2025-03-26T16:26:51.650412Z",
     "iopub.status.idle": "2025-03-26T16:26:51.673098Z",
     "shell.execute_reply": "2025-03-26T16:26:51.672226Z",
     "shell.execute_reply.started": "2025-03-26T16:26:51.650927Z"
    }
   },
   "outputs": [],
   "source": [
    "def get_borehole_info(data):\n",
    "    state = np.random.RandomState(12345)\n",
    "    values = []\n",
    "    profits = []\n",
    "    for _ in range(1000):\n",
    "        subsample = data.sample(n=500, replace=True, random_state=state)\n",
    "        values.append(subsample['predicted_product'].quantile(0.99))\n",
    "    \n",
    "        _, revenue = get_revenue(subsample)\n",
    "        profits.append(revenue)\n",
    "    \n",
    "    values = pd.Series(values)\n",
    "        \n",
    "    lower = values.quantile(0.025)\n",
    "    upper = values.quantile(0.975)\n",
    "    \n",
    "    print(f'95%-м доверительным интервалом являются значения: от {lower} до {upper}')\n",
    "    \n",
    "    profits = pd.Series(profits)\n",
    "    mean_profit = profits.mean()\n",
    "    print(f\"Средняя прибыль: {mean_profit:,.2f} рублей\")\n",
    "    \n",
    "    \n",
    "    risk_of_loss = (profits < 0).mean() * 100 \n",
    "    print(f\"Риск убытков: {risk_of_loss:.2f}%\")"
   ]
  },
  {
   "cell_type": "markdown",
   "metadata": {},
   "source": [
    "___\n",
    "    Используем бутстрапинг по всему датафрейму\n",
    "___"
   ]
  },
  {
   "cell_type": "markdown",
   "metadata": {},
   "source": [
    "___\n",
    "    В первом регионе\n",
    "___"
   ]
  },
  {
   "cell_type": "code",
   "execution_count": 51,
   "metadata": {
    "execution": {
     "iopub.execute_input": "2025-03-26T16:26:51.674624Z",
     "iopub.status.busy": "2025-03-26T16:26:51.674249Z",
     "iopub.status.idle": "2025-03-26T16:26:52.187323Z",
     "shell.execute_reply": "2025-03-26T16:26:52.186613Z",
     "shell.execute_reply.started": "2025-03-26T16:26:51.674589Z"
    }
   },
   "outputs": [
    {
     "name": "stdout",
     "output_type": "stream",
     "text": [
      "95%-м доверительным интервалом являются значения: от 138.83625869538938 до 152.71081216800647\n",
      "Средняя прибыль: 422,565,082.85 рублей\n",
      "Риск убытков: 5.20%\n"
     ]
    }
   ],
   "source": [
    "get_borehole_info(df_geo_data_0)"
   ]
  },
  {
   "cell_type": "markdown",
   "metadata": {},
   "source": [
    "___\n",
    "    Во втором регионе\n",
    "___"
   ]
  },
  {
   "cell_type": "code",
   "execution_count": 52,
   "metadata": {
    "execution": {
     "iopub.execute_input": "2025-03-26T16:26:52.188200Z",
     "iopub.status.busy": "2025-03-26T16:26:52.187959Z",
     "iopub.status.idle": "2025-03-26T16:26:52.641467Z",
     "shell.execute_reply": "2025-03-26T16:26:52.640555Z",
     "shell.execute_reply.started": "2025-03-26T16:26:52.188181Z"
    },
    "scrolled": true
   },
   "outputs": [
    {
     "name": "stdout",
     "output_type": "stream",
     "text": [
      "95%-м доверительным интервалом являются значения: от 137.89137182792123 до 138.62622316597668\n",
      "Средняя прибыль: 448,723,501.24 рублей\n",
      "Риск убытков: 1.40%\n"
     ]
    }
   ],
   "source": [
    "get_borehole_info(df_geo_data_1)"
   ]
  },
  {
   "cell_type": "markdown",
   "metadata": {},
   "source": [
    "___\n",
    "    В третьем регионе\n",
    "___"
   ]
  },
  {
   "cell_type": "code",
   "execution_count": 53,
   "metadata": {
    "execution": {
     "iopub.execute_input": "2025-03-26T16:26:52.642305Z",
     "iopub.status.busy": "2025-03-26T16:26:52.642070Z",
     "iopub.status.idle": "2025-03-26T16:26:53.111736Z",
     "shell.execute_reply": "2025-03-26T16:26:53.110901Z",
     "shell.execute_reply.started": "2025-03-26T16:26:52.642288Z"
    }
   },
   "outputs": [
    {
     "name": "stdout",
     "output_type": "stream",
     "text": [
      "95%-м доверительным интервалом являются значения: от 134.25903309816636 до 146.72421718297866\n",
      "Средняя прибыль: 374,728,178.21 рублей\n",
      "Риск убытков: 9.00%\n"
     ]
    }
   ],
   "source": [
    "get_borehole_info(df_geo_data_2)"
   ]
  },
  {
   "cell_type": "markdown",
   "metadata": {},
   "source": [
    "## Вывод"
   ]
  },
  {
   "cell_type": "markdown",
   "metadata": {},
   "source": [
    "___\n",
    "    Были обучены модели для каждого региона добычи сырья для предсказания кол-ва продукта в скважинах\n",
    "    Был проведён анализ для выбора самого перспективного региона \n",
    "\n",
    "    Для предсказания продукта, была выбрана Линейная модель, тк это стояло в условиях задачи\n",
    "    Её точность в 1 и 3 регионах составляла на метрике RMSE: от 37 до 40 \n",
    "    \n",
    "    На данных предсказанных моделью были проанализированы регионы по возможной прибыли и рискам убытков\n",
    "    Результаты анализа рисков и убытков:\n",
    "\n",
    "    В первом регионе\n",
    "    95%-м доверительным интервалом являются значения: от 138.8 до 152.7\n",
    "    Средняя прибыль: 422,565,082.85 рублей\n",
    "    Риск убытков: 5.20%\n",
    "\n",
    "    Во втором регионе\n",
    "    95%-м доверительным интервалом являются значения: от 137.9 до 138.6\n",
    "    Средняя прибыль: 448,723,501.24 рублей\n",
    "    Риск убытков: 1.40%\n",
    "\n",
    "    В третьем регионе\n",
    "    95%-м доверительным интервалом являются значения: от 134.3 до 146.7\n",
    "    Средняя прибыль: 374,728,178.21 рублей\n",
    "    Риск убытков: 9.00%\n",
    "\n",
    "    По условию, нам необходимо  оставить лишь регионы с риском убытков менее 2.5%\n",
    "    Поэтому самым лучшим регионом будет второй регион, т.к. это единственный регион с риском менее 2.5%\n",
    "    И  средней прибылью 448,723,501 рублей\n",
    "___"
   ]
  }
 ],
 "metadata": {
  "ExecuteTimeLog": [
   {
    "duration": 49,
    "start_time": "2025-03-27T09:17:15.974Z"
   },
   {
    "duration": 8321,
    "start_time": "2025-03-27T09:17:25.657Z"
   },
   {
    "duration": 2132,
    "start_time": "2025-03-27T09:17:33.981Z"
   },
   {
    "duration": 12769,
    "start_time": "2025-03-27T09:17:36.115Z"
   },
   {
    "duration": 13,
    "start_time": "2025-03-27T09:17:48.886Z"
   },
   {
    "duration": 9,
    "start_time": "2025-03-27T09:17:48.901Z"
   },
   {
    "duration": 24,
    "start_time": "2025-03-27T09:17:48.911Z"
   },
   {
    "duration": 34,
    "start_time": "2025-03-27T09:17:48.936Z"
   },
   {
    "duration": 14,
    "start_time": "2025-03-27T09:17:48.971Z"
   },
   {
    "duration": 15,
    "start_time": "2025-03-27T09:17:48.987Z"
   },
   {
    "duration": 57,
    "start_time": "2025-03-27T09:17:49.003Z"
   },
   {
    "duration": 40,
    "start_time": "2025-03-27T09:17:49.061Z"
   },
   {
    "duration": 58,
    "start_time": "2025-03-27T09:17:49.102Z"
   },
   {
    "duration": 15,
    "start_time": "2025-03-27T09:17:49.161Z"
   },
   {
    "duration": 25,
    "start_time": "2025-03-27T09:17:49.179Z"
   },
   {
    "duration": 1090,
    "start_time": "2025-03-27T09:17:49.206Z"
   },
   {
    "duration": 33,
    "start_time": "2025-03-27T09:17:50.298Z"
   },
   {
    "duration": 877,
    "start_time": "2025-03-27T09:17:50.333Z"
   },
   {
    "duration": 32,
    "start_time": "2025-03-27T09:17:51.212Z"
   },
   {
    "duration": 946,
    "start_time": "2025-03-27T09:17:51.245Z"
   },
   {
    "duration": 8,
    "start_time": "2025-03-27T09:17:52.193Z"
   },
   {
    "duration": 36,
    "start_time": "2025-03-27T09:17:52.202Z"
   },
   {
    "duration": 1107,
    "start_time": "2025-03-27T09:17:52.240Z"
   },
   {
    "duration": 136,
    "start_time": "2025-03-27T09:17:53.349Z"
   },
   {
    "duration": 0,
    "start_time": "2025-03-27T09:17:53.487Z"
   },
   {
    "duration": 0,
    "start_time": "2025-03-27T09:17:53.488Z"
   },
   {
    "duration": 0,
    "start_time": "2025-03-27T09:17:53.489Z"
   },
   {
    "duration": 0,
    "start_time": "2025-03-27T09:17:53.490Z"
   },
   {
    "duration": 0,
    "start_time": "2025-03-27T09:17:53.491Z"
   },
   {
    "duration": 0,
    "start_time": "2025-03-27T09:17:53.492Z"
   },
   {
    "duration": 0,
    "start_time": "2025-03-27T09:17:53.493Z"
   },
   {
    "duration": 0,
    "start_time": "2025-03-27T09:17:53.495Z"
   },
   {
    "duration": 0,
    "start_time": "2025-03-27T09:17:53.495Z"
   },
   {
    "duration": 0,
    "start_time": "2025-03-27T09:17:53.496Z"
   },
   {
    "duration": 0,
    "start_time": "2025-03-27T09:17:53.498Z"
   },
   {
    "duration": 0,
    "start_time": "2025-03-27T09:17:53.499Z"
   },
   {
    "duration": 0,
    "start_time": "2025-03-27T09:17:53.500Z"
   },
   {
    "duration": 0,
    "start_time": "2025-03-27T09:17:53.501Z"
   },
   {
    "duration": 0,
    "start_time": "2025-03-27T09:17:53.502Z"
   },
   {
    "duration": 0,
    "start_time": "2025-03-27T09:17:53.530Z"
   },
   {
    "duration": 0,
    "start_time": "2025-03-27T09:17:53.531Z"
   },
   {
    "duration": 0,
    "start_time": "2025-03-27T09:17:53.532Z"
   },
   {
    "duration": 0,
    "start_time": "2025-03-27T09:17:53.533Z"
   },
   {
    "duration": 0,
    "start_time": "2025-03-27T09:17:53.534Z"
   },
   {
    "duration": 0,
    "start_time": "2025-03-27T09:17:53.535Z"
   },
   {
    "duration": 0,
    "start_time": "2025-03-27T09:17:53.536Z"
   },
   {
    "duration": 0,
    "start_time": "2025-03-27T09:17:53.538Z"
   },
   {
    "duration": 0,
    "start_time": "2025-03-27T09:17:53.539Z"
   },
   {
    "duration": 0,
    "start_time": "2025-03-27T09:17:53.540Z"
   },
   {
    "duration": 0,
    "start_time": "2025-03-27T09:17:53.541Z"
   },
   {
    "duration": 0,
    "start_time": "2025-03-27T09:17:53.542Z"
   },
   {
    "duration": 0,
    "start_time": "2025-03-27T09:17:53.543Z"
   },
   {
    "duration": 0,
    "start_time": "2025-03-27T09:17:53.544Z"
   },
   {
    "duration": 7935,
    "start_time": "2025-03-29T07:05:23.368Z"
   },
   {
    "duration": 2957,
    "start_time": "2025-03-29T07:05:31.306Z"
   },
   {
    "duration": 1150,
    "start_time": "2025-03-29T07:05:34.265Z"
   },
   {
    "duration": 14,
    "start_time": "2025-03-29T07:05:35.417Z"
   },
   {
    "duration": 14,
    "start_time": "2025-03-29T07:05:35.433Z"
   },
   {
    "duration": 9,
    "start_time": "2025-03-29T07:05:35.458Z"
   },
   {
    "duration": 16,
    "start_time": "2025-03-29T07:05:35.469Z"
   },
   {
    "duration": 15,
    "start_time": "2025-03-29T07:05:35.487Z"
   },
   {
    "duration": 15,
    "start_time": "2025-03-29T07:05:35.504Z"
   },
   {
    "duration": 45,
    "start_time": "2025-03-29T07:05:35.557Z"
   },
   {
    "duration": 37,
    "start_time": "2025-03-29T07:05:35.604Z"
   },
   {
    "duration": 46,
    "start_time": "2025-03-29T07:05:35.643Z"
   },
   {
    "duration": 13,
    "start_time": "2025-03-29T07:05:35.691Z"
   },
   {
    "duration": 29,
    "start_time": "2025-03-29T07:05:35.705Z"
   },
   {
    "duration": 1054,
    "start_time": "2025-03-29T07:05:35.736Z"
   },
   {
    "duration": 23,
    "start_time": "2025-03-29T07:05:36.792Z"
   },
   {
    "duration": 861,
    "start_time": "2025-03-29T07:05:36.817Z"
   },
   {
    "duration": 24,
    "start_time": "2025-03-29T07:05:37.680Z"
   },
   {
    "duration": 857,
    "start_time": "2025-03-29T07:05:37.705Z"
   },
   {
    "duration": 9,
    "start_time": "2025-03-29T07:05:38.564Z"
   },
   {
    "duration": 33,
    "start_time": "2025-03-29T07:05:38.575Z"
   },
   {
    "duration": 1152,
    "start_time": "2025-03-29T07:05:38.610Z"
   },
   {
    "duration": 139,
    "start_time": "2025-03-29T07:05:39.764Z"
   },
   {
    "duration": 0,
    "start_time": "2025-03-29T07:05:39.905Z"
   },
   {
    "duration": 0,
    "start_time": "2025-03-29T07:05:39.906Z"
   },
   {
    "duration": 0,
    "start_time": "2025-03-29T07:05:39.907Z"
   },
   {
    "duration": 0,
    "start_time": "2025-03-29T07:05:39.908Z"
   },
   {
    "duration": 0,
    "start_time": "2025-03-29T07:05:39.909Z"
   },
   {
    "duration": 0,
    "start_time": "2025-03-29T07:05:39.911Z"
   },
   {
    "duration": 0,
    "start_time": "2025-03-29T07:05:39.912Z"
   },
   {
    "duration": 0,
    "start_time": "2025-03-29T07:05:39.913Z"
   },
   {
    "duration": 0,
    "start_time": "2025-03-29T07:05:39.914Z"
   },
   {
    "duration": 0,
    "start_time": "2025-03-29T07:05:39.915Z"
   },
   {
    "duration": 0,
    "start_time": "2025-03-29T07:05:39.916Z"
   },
   {
    "duration": 0,
    "start_time": "2025-03-29T07:05:39.918Z"
   },
   {
    "duration": 0,
    "start_time": "2025-03-29T07:05:39.919Z"
   },
   {
    "duration": 0,
    "start_time": "2025-03-29T07:05:39.920Z"
   },
   {
    "duration": 0,
    "start_time": "2025-03-29T07:05:39.920Z"
   },
   {
    "duration": 0,
    "start_time": "2025-03-29T07:05:39.921Z"
   },
   {
    "duration": 0,
    "start_time": "2025-03-29T07:05:39.922Z"
   },
   {
    "duration": 0,
    "start_time": "2025-03-29T07:05:39.923Z"
   },
   {
    "duration": 0,
    "start_time": "2025-03-29T07:05:39.924Z"
   },
   {
    "duration": 0,
    "start_time": "2025-03-29T07:05:39.958Z"
   },
   {
    "duration": 0,
    "start_time": "2025-03-29T07:05:39.959Z"
   },
   {
    "duration": 0,
    "start_time": "2025-03-29T07:05:39.960Z"
   },
   {
    "duration": 0,
    "start_time": "2025-03-29T07:05:39.961Z"
   },
   {
    "duration": 0,
    "start_time": "2025-03-29T07:05:39.962Z"
   },
   {
    "duration": 0,
    "start_time": "2025-03-29T07:05:39.963Z"
   },
   {
    "duration": 0,
    "start_time": "2025-03-29T07:05:39.964Z"
   },
   {
    "duration": 0,
    "start_time": "2025-03-29T07:05:39.964Z"
   },
   {
    "duration": 0,
    "start_time": "2025-03-29T07:05:39.965Z"
   },
   {
    "duration": 0,
    "start_time": "2025-03-29T07:05:39.966Z"
   },
   {
    "duration": 0,
    "start_time": "2025-03-29T07:05:39.967Z"
   },
   {
    "duration": 24054,
    "start_time": "2025-03-29T07:47:21.976Z"
   },
   {
    "duration": 706,
    "start_time": "2025-03-29T07:47:46.033Z"
   },
   {
    "duration": 0,
    "start_time": "2025-03-29T07:47:46.742Z"
   },
   {
    "duration": 0,
    "start_time": "2025-03-29T07:47:46.743Z"
   },
   {
    "duration": 0,
    "start_time": "2025-03-29T07:47:46.745Z"
   },
   {
    "duration": 0,
    "start_time": "2025-03-29T07:47:46.762Z"
   },
   {
    "duration": 0,
    "start_time": "2025-03-29T07:47:46.764Z"
   },
   {
    "duration": 0,
    "start_time": "2025-03-29T07:47:46.765Z"
   },
   {
    "duration": 0,
    "start_time": "2025-03-29T07:47:46.766Z"
   },
   {
    "duration": 0,
    "start_time": "2025-03-29T07:47:46.767Z"
   },
   {
    "duration": 0,
    "start_time": "2025-03-29T07:47:46.768Z"
   },
   {
    "duration": 0,
    "start_time": "2025-03-29T07:47:46.769Z"
   },
   {
    "duration": 0,
    "start_time": "2025-03-29T07:47:46.770Z"
   },
   {
    "duration": 0,
    "start_time": "2025-03-29T07:47:46.771Z"
   },
   {
    "duration": 0,
    "start_time": "2025-03-29T07:47:46.772Z"
   },
   {
    "duration": 0,
    "start_time": "2025-03-29T07:47:46.773Z"
   },
   {
    "duration": 0,
    "start_time": "2025-03-29T07:47:46.774Z"
   },
   {
    "duration": 0,
    "start_time": "2025-03-29T07:47:46.775Z"
   },
   {
    "duration": 0,
    "start_time": "2025-03-29T07:47:46.776Z"
   },
   {
    "duration": 0,
    "start_time": "2025-03-29T07:47:46.777Z"
   },
   {
    "duration": 0,
    "start_time": "2025-03-29T07:47:46.778Z"
   },
   {
    "duration": 0,
    "start_time": "2025-03-29T07:47:46.779Z"
   },
   {
    "duration": 0,
    "start_time": "2025-03-29T07:47:46.780Z"
   },
   {
    "duration": 0,
    "start_time": "2025-03-29T07:47:46.781Z"
   },
   {
    "duration": 0,
    "start_time": "2025-03-29T07:47:46.782Z"
   },
   {
    "duration": 0,
    "start_time": "2025-03-29T07:47:46.783Z"
   },
   {
    "duration": 0,
    "start_time": "2025-03-29T07:47:46.784Z"
   },
   {
    "duration": 0,
    "start_time": "2025-03-29T07:47:46.785Z"
   },
   {
    "duration": 0,
    "start_time": "2025-03-29T07:47:46.786Z"
   },
   {
    "duration": 0,
    "start_time": "2025-03-29T07:47:46.787Z"
   },
   {
    "duration": 0,
    "start_time": "2025-03-29T07:47:46.788Z"
   },
   {
    "duration": 0,
    "start_time": "2025-03-29T07:47:46.789Z"
   },
   {
    "duration": 0,
    "start_time": "2025-03-29T07:47:46.790Z"
   },
   {
    "duration": 0,
    "start_time": "2025-03-29T07:47:46.791Z"
   },
   {
    "duration": 0,
    "start_time": "2025-03-29T07:47:46.792Z"
   },
   {
    "duration": 0,
    "start_time": "2025-03-29T07:47:46.793Z"
   },
   {
    "duration": 0,
    "start_time": "2025-03-29T07:47:46.794Z"
   },
   {
    "duration": 0,
    "start_time": "2025-03-29T07:47:46.795Z"
   },
   {
    "duration": 0,
    "start_time": "2025-03-29T07:47:46.796Z"
   },
   {
    "duration": 0,
    "start_time": "2025-03-29T07:47:46.797Z"
   },
   {
    "duration": 0,
    "start_time": "2025-03-29T07:47:46.798Z"
   },
   {
    "duration": 0,
    "start_time": "2025-03-29T07:47:46.799Z"
   },
   {
    "duration": 0,
    "start_time": "2025-03-29T07:47:46.862Z"
   },
   {
    "duration": 0,
    "start_time": "2025-03-29T07:47:46.864Z"
   },
   {
    "duration": 0,
    "start_time": "2025-03-29T07:47:46.865Z"
   },
   {
    "duration": 0,
    "start_time": "2025-03-29T07:47:46.866Z"
   },
   {
    "duration": 0,
    "start_time": "2025-03-29T07:47:46.867Z"
   },
   {
    "duration": 0,
    "start_time": "2025-03-29T07:47:46.868Z"
   },
   {
    "duration": 0,
    "start_time": "2025-03-29T07:47:46.869Z"
   },
   {
    "duration": 0,
    "start_time": "2025-03-29T07:47:46.870Z"
   },
   {
    "duration": 0,
    "start_time": "2025-03-29T07:47:46.871Z"
   },
   {
    "duration": 0,
    "start_time": "2025-03-29T07:47:46.872Z"
   },
   {
    "duration": 0,
    "start_time": "2025-03-29T07:47:46.873Z"
   },
   {
    "duration": 25447,
    "start_time": "2025-03-29T07:49:22.247Z"
   },
   {
    "duration": 19,
    "start_time": "2025-03-29T07:49:47.696Z"
   },
   {
    "duration": 18412,
    "start_time": "2025-03-29T07:50:22.795Z"
   },
   {
    "duration": 629,
    "start_time": "2025-03-29T07:50:41.210Z"
   },
   {
    "duration": 0,
    "start_time": "2025-03-29T07:50:41.841Z"
   },
   {
    "duration": 0,
    "start_time": "2025-03-29T07:50:41.842Z"
   },
   {
    "duration": 0,
    "start_time": "2025-03-29T07:50:41.843Z"
   },
   {
    "duration": 0,
    "start_time": "2025-03-29T07:50:41.844Z"
   },
   {
    "duration": 0,
    "start_time": "2025-03-29T07:50:41.845Z"
   },
   {
    "duration": 0,
    "start_time": "2025-03-29T07:50:41.846Z"
   },
   {
    "duration": 0,
    "start_time": "2025-03-29T07:50:41.847Z"
   },
   {
    "duration": 0,
    "start_time": "2025-03-29T07:50:41.848Z"
   },
   {
    "duration": 0,
    "start_time": "2025-03-29T07:50:41.862Z"
   },
   {
    "duration": 0,
    "start_time": "2025-03-29T07:50:41.863Z"
   },
   {
    "duration": 0,
    "start_time": "2025-03-29T07:50:41.864Z"
   },
   {
    "duration": 0,
    "start_time": "2025-03-29T07:50:41.866Z"
   },
   {
    "duration": 0,
    "start_time": "2025-03-29T07:50:41.867Z"
   },
   {
    "duration": 0,
    "start_time": "2025-03-29T07:50:41.868Z"
   },
   {
    "duration": 0,
    "start_time": "2025-03-29T07:50:41.869Z"
   },
   {
    "duration": 0,
    "start_time": "2025-03-29T07:50:41.870Z"
   },
   {
    "duration": 0,
    "start_time": "2025-03-29T07:50:41.871Z"
   },
   {
    "duration": 0,
    "start_time": "2025-03-29T07:50:41.872Z"
   },
   {
    "duration": 0,
    "start_time": "2025-03-29T07:50:41.873Z"
   },
   {
    "duration": 0,
    "start_time": "2025-03-29T07:50:41.874Z"
   },
   {
    "duration": 0,
    "start_time": "2025-03-29T07:50:41.876Z"
   },
   {
    "duration": 0,
    "start_time": "2025-03-29T07:50:41.877Z"
   },
   {
    "duration": 0,
    "start_time": "2025-03-29T07:50:41.878Z"
   },
   {
    "duration": 0,
    "start_time": "2025-03-29T07:50:41.880Z"
   },
   {
    "duration": 0,
    "start_time": "2025-03-29T07:50:41.880Z"
   },
   {
    "duration": 0,
    "start_time": "2025-03-29T07:50:41.881Z"
   },
   {
    "duration": 0,
    "start_time": "2025-03-29T07:50:41.883Z"
   },
   {
    "duration": 0,
    "start_time": "2025-03-29T07:50:41.884Z"
   },
   {
    "duration": 0,
    "start_time": "2025-03-29T07:50:41.885Z"
   },
   {
    "duration": 0,
    "start_time": "2025-03-29T07:50:41.886Z"
   },
   {
    "duration": 0,
    "start_time": "2025-03-29T07:50:41.887Z"
   },
   {
    "duration": 0,
    "start_time": "2025-03-29T07:50:41.888Z"
   },
   {
    "duration": 0,
    "start_time": "2025-03-29T07:50:41.890Z"
   },
   {
    "duration": 0,
    "start_time": "2025-03-29T07:50:41.890Z"
   },
   {
    "duration": 0,
    "start_time": "2025-03-29T07:50:41.892Z"
   },
   {
    "duration": 0,
    "start_time": "2025-03-29T07:50:41.893Z"
   },
   {
    "duration": 0,
    "start_time": "2025-03-29T07:50:41.894Z"
   },
   {
    "duration": 0,
    "start_time": "2025-03-29T07:50:41.895Z"
   },
   {
    "duration": 0,
    "start_time": "2025-03-29T07:50:41.896Z"
   },
   {
    "duration": 0,
    "start_time": "2025-03-29T07:50:41.897Z"
   },
   {
    "duration": 0,
    "start_time": "2025-03-29T07:50:41.961Z"
   },
   {
    "duration": 0,
    "start_time": "2025-03-29T07:50:41.963Z"
   },
   {
    "duration": 0,
    "start_time": "2025-03-29T07:50:41.964Z"
   },
   {
    "duration": 0,
    "start_time": "2025-03-29T07:50:41.965Z"
   },
   {
    "duration": 0,
    "start_time": "2025-03-29T07:50:41.966Z"
   },
   {
    "duration": 0,
    "start_time": "2025-03-29T07:50:41.967Z"
   },
   {
    "duration": 0,
    "start_time": "2025-03-29T07:50:41.968Z"
   },
   {
    "duration": 0,
    "start_time": "2025-03-29T07:50:41.969Z"
   },
   {
    "duration": 0,
    "start_time": "2025-03-29T07:50:41.970Z"
   },
   {
    "duration": 0,
    "start_time": "2025-03-29T07:50:41.971Z"
   },
   {
    "duration": 0,
    "start_time": "2025-03-29T07:50:41.972Z"
   },
   {
    "duration": 8953,
    "start_time": "2025-03-29T07:53:38.512Z"
   },
   {
    "duration": 2389,
    "start_time": "2025-03-29T07:53:47.468Z"
   },
   {
    "duration": 1174,
    "start_time": "2025-03-29T07:53:49.858Z"
   },
   {
    "duration": 12,
    "start_time": "2025-03-29T07:53:51.034Z"
   },
   {
    "duration": 42,
    "start_time": "2025-03-29T07:53:51.048Z"
   },
   {
    "duration": 63,
    "start_time": "2025-03-29T07:53:51.091Z"
   },
   {
    "duration": 50,
    "start_time": "2025-03-29T07:53:51.155Z"
   },
   {
    "duration": 111,
    "start_time": "2025-03-29T07:53:51.206Z"
   },
   {
    "duration": 126,
    "start_time": "2025-03-29T07:53:51.319Z"
   },
   {
    "duration": 135,
    "start_time": "2025-03-29T07:53:51.447Z"
   },
   {
    "duration": 52,
    "start_time": "2025-03-29T07:53:51.584Z"
   },
   {
    "duration": 61,
    "start_time": "2025-03-29T07:53:51.637Z"
   },
   {
    "duration": 32,
    "start_time": "2025-03-29T07:53:51.700Z"
   },
   {
    "duration": 71,
    "start_time": "2025-03-29T07:53:51.735Z"
   },
   {
    "duration": 1129,
    "start_time": "2025-03-29T07:53:51.808Z"
   },
   {
    "duration": 31,
    "start_time": "2025-03-29T07:53:52.939Z"
   },
   {
    "duration": 975,
    "start_time": "2025-03-29T07:53:52.972Z"
   },
   {
    "duration": 29,
    "start_time": "2025-03-29T07:53:53.948Z"
   },
   {
    "duration": 1037,
    "start_time": "2025-03-29T07:53:53.978Z"
   },
   {
    "duration": 9,
    "start_time": "2025-03-29T07:53:55.017Z"
   },
   {
    "duration": 37,
    "start_time": "2025-03-29T07:53:55.027Z"
   },
   {
    "duration": 1093,
    "start_time": "2025-03-29T07:53:55.065Z"
   },
   {
    "duration": 1206,
    "start_time": "2025-03-29T07:53:56.160Z"
   },
   {
    "duration": 449,
    "start_time": "2025-03-29T07:53:57.368Z"
   },
   {
    "duration": 12,
    "start_time": "2025-03-29T07:53:57.819Z"
   },
   {
    "duration": 43,
    "start_time": "2025-03-29T07:53:57.833Z"
   },
   {
    "duration": 72,
    "start_time": "2025-03-29T07:53:57.877Z"
   },
   {
    "duration": 41,
    "start_time": "2025-03-29T07:53:57.951Z"
   },
   {
    "duration": 126,
    "start_time": "2025-03-29T07:53:57.994Z"
   },
   {
    "duration": 4346,
    "start_time": "2025-03-29T07:53:58.122Z"
   },
   {
    "duration": 5,
    "start_time": "2025-03-29T07:54:02.470Z"
   },
   {
    "duration": 218,
    "start_time": "2025-03-29T07:54:02.477Z"
   },
   {
    "duration": 192,
    "start_time": "2025-03-29T07:54:02.697Z"
   },
   {
    "duration": 4381,
    "start_time": "2025-03-29T07:54:02.891Z"
   },
   {
    "duration": 6,
    "start_time": "2025-03-29T07:54:07.274Z"
   },
   {
    "duration": 27,
    "start_time": "2025-03-29T07:54:07.281Z"
   },
   {
    "duration": 167,
    "start_time": "2025-03-29T07:54:07.310Z"
   },
   {
    "duration": 4490,
    "start_time": "2025-03-29T07:54:07.480Z"
   },
   {
    "duration": 6,
    "start_time": "2025-03-29T07:54:11.972Z"
   },
   {
    "duration": 18,
    "start_time": "2025-03-29T07:54:11.980Z"
   },
   {
    "duration": 5,
    "start_time": "2025-03-29T07:54:12.066Z"
   },
   {
    "duration": 184,
    "start_time": "2025-03-29T07:54:12.163Z"
   },
   {
    "duration": 226,
    "start_time": "2025-03-29T07:54:12.349Z"
   },
   {
    "duration": 201,
    "start_time": "2025-03-29T07:54:12.576Z"
   },
   {
    "duration": 195,
    "start_time": "2025-03-29T07:54:12.779Z"
   },
   {
    "duration": 4,
    "start_time": "2025-03-29T07:54:12.975Z"
   },
   {
    "duration": 41,
    "start_time": "2025-03-29T07:54:12.980Z"
   },
   {
    "duration": 39,
    "start_time": "2025-03-29T07:54:13.023Z"
   },
   {
    "duration": 25,
    "start_time": "2025-03-29T07:54:13.064Z"
   },
   {
    "duration": 5,
    "start_time": "2025-03-29T07:54:13.090Z"
   },
   {
    "duration": 1166,
    "start_time": "2025-03-29T07:54:13.097Z"
   },
   {
    "duration": 1098,
    "start_time": "2025-03-29T07:54:14.264Z"
   },
   {
    "duration": 1139,
    "start_time": "2025-03-29T07:54:15.364Z"
   },
   {
    "duration": 20288,
    "start_time": "2025-03-29T07:57:03.405Z"
   },
   {
    "duration": 5289,
    "start_time": "2025-03-29T10:37:22.542Z"
   },
   {
    "duration": 2187,
    "start_time": "2025-03-29T10:37:27.833Z"
   },
   {
    "duration": 1214,
    "start_time": "2025-03-29T10:37:30.022Z"
   },
   {
    "duration": 12,
    "start_time": "2025-03-29T10:37:31.238Z"
   },
   {
    "duration": 80,
    "start_time": "2025-03-29T10:37:31.263Z"
   },
   {
    "duration": 33,
    "start_time": "2025-03-29T10:37:31.344Z"
   },
   {
    "duration": 42,
    "start_time": "2025-03-29T10:37:31.379Z"
   },
   {
    "duration": 17,
    "start_time": "2025-03-29T10:37:31.423Z"
   },
   {
    "duration": 11,
    "start_time": "2025-03-29T10:37:31.442Z"
   },
   {
    "duration": 50,
    "start_time": "2025-03-29T10:37:31.454Z"
   },
   {
    "duration": 36,
    "start_time": "2025-03-29T10:37:31.506Z"
   },
   {
    "duration": 46,
    "start_time": "2025-03-29T10:37:31.544Z"
   },
   {
    "duration": 12,
    "start_time": "2025-03-29T10:37:31.591Z"
   },
   {
    "duration": 28,
    "start_time": "2025-03-29T10:37:31.606Z"
   },
   {
    "duration": 1083,
    "start_time": "2025-03-29T10:37:31.636Z"
   },
   {
    "duration": 25,
    "start_time": "2025-03-29T10:37:32.721Z"
   },
   {
    "duration": 916,
    "start_time": "2025-03-29T10:37:32.748Z"
   },
   {
    "duration": 24,
    "start_time": "2025-03-29T10:37:33.665Z"
   },
   {
    "duration": 1079,
    "start_time": "2025-03-29T10:37:33.691Z"
   },
   {
    "duration": 8,
    "start_time": "2025-03-29T10:37:34.772Z"
   },
   {
    "duration": 24,
    "start_time": "2025-03-29T10:37:34.782Z"
   },
   {
    "duration": 1119,
    "start_time": "2025-03-29T10:37:34.808Z"
   },
   {
    "duration": 1094,
    "start_time": "2025-03-29T10:37:35.929Z"
   },
   {
    "duration": 302,
    "start_time": "2025-03-29T10:37:37.025Z"
   },
   {
    "duration": 15,
    "start_time": "2025-03-29T10:37:37.329Z"
   },
   {
    "duration": 28,
    "start_time": "2025-03-29T10:37:37.346Z"
   },
   {
    "duration": 9,
    "start_time": "2025-03-29T10:37:37.375Z"
   },
   {
    "duration": 7,
    "start_time": "2025-03-29T10:37:37.386Z"
   },
   {
    "duration": 17,
    "start_time": "2025-03-29T10:37:37.394Z"
   },
   {
    "duration": 4656,
    "start_time": "2025-03-29T10:37:37.413Z"
   },
   {
    "duration": 6,
    "start_time": "2025-03-29T10:37:42.071Z"
   },
   {
    "duration": 10,
    "start_time": "2025-03-29T10:37:42.078Z"
   },
   {
    "duration": 172,
    "start_time": "2025-03-29T10:37:42.091Z"
   },
   {
    "duration": 4504,
    "start_time": "2025-03-29T10:37:42.266Z"
   },
   {
    "duration": 7,
    "start_time": "2025-03-29T10:37:46.771Z"
   },
   {
    "duration": 30,
    "start_time": "2025-03-29T10:37:46.779Z"
   },
   {
    "duration": 156,
    "start_time": "2025-03-29T10:37:46.811Z"
   },
   {
    "duration": 4601,
    "start_time": "2025-03-29T10:37:46.968Z"
   },
   {
    "duration": 6,
    "start_time": "2025-03-29T10:37:51.571Z"
   },
   {
    "duration": 23,
    "start_time": "2025-03-29T10:37:51.578Z"
   },
   {
    "duration": 62,
    "start_time": "2025-03-29T10:37:51.606Z"
   },
   {
    "duration": 130,
    "start_time": "2025-03-29T10:37:51.671Z"
   },
   {
    "duration": 173,
    "start_time": "2025-03-29T10:37:51.803Z"
   },
   {
    "duration": 198,
    "start_time": "2025-03-29T10:37:51.978Z"
   },
   {
    "duration": 195,
    "start_time": "2025-03-29T10:37:52.178Z"
   },
   {
    "duration": 3,
    "start_time": "2025-03-29T10:37:52.374Z"
   },
   {
    "duration": 44,
    "start_time": "2025-03-29T10:37:52.379Z"
   },
   {
    "duration": 23,
    "start_time": "2025-03-29T10:37:52.425Z"
   },
   {
    "duration": 24,
    "start_time": "2025-03-29T10:37:52.461Z"
   },
   {
    "duration": 44,
    "start_time": "2025-03-29T10:37:52.487Z"
   },
   {
    "duration": 1262,
    "start_time": "2025-03-29T10:37:52.532Z"
   },
   {
    "duration": 1131,
    "start_time": "2025-03-29T10:37:53.796Z"
   },
   {
    "duration": 1158,
    "start_time": "2025-03-29T10:37:54.929Z"
   },
   {
    "duration": 5,
    "start_time": "2025-03-29T10:38:16.811Z"
   },
   {
    "duration": 1137,
    "start_time": "2025-03-29T10:38:19.336Z"
   },
   {
    "duration": 1129,
    "start_time": "2025-03-29T10:38:22.962Z"
   },
   {
    "duration": 1130,
    "start_time": "2025-03-29T10:38:29.163Z"
   },
   {
    "duration": 5,
    "start_time": "2025-03-29T10:41:35.900Z"
   },
   {
    "duration": 1124,
    "start_time": "2025-03-29T10:41:39.926Z"
   },
   {
    "duration": 20195,
    "start_time": "2025-03-29T10:51:20.091Z"
   },
   {
    "duration": 20327,
    "start_time": "2025-03-29T10:51:40.289Z"
   },
   {
    "duration": 20373,
    "start_time": "2025-03-29T10:52:22.165Z"
   },
   {
    "duration": 5288,
    "start_time": "2025-03-29T11:00:08.771Z"
   },
   {
    "duration": 2180,
    "start_time": "2025-03-29T11:00:14.062Z"
   },
   {
    "duration": 1136,
    "start_time": "2025-03-29T11:00:16.243Z"
   },
   {
    "duration": 11,
    "start_time": "2025-03-29T11:00:17.381Z"
   },
   {
    "duration": 72,
    "start_time": "2025-03-29T11:00:17.395Z"
   },
   {
    "duration": 13,
    "start_time": "2025-03-29T11:00:17.469Z"
   },
   {
    "duration": 24,
    "start_time": "2025-03-29T11:00:17.485Z"
   },
   {
    "duration": 21,
    "start_time": "2025-03-29T11:00:17.511Z"
   },
   {
    "duration": 34,
    "start_time": "2025-03-29T11:00:17.534Z"
   },
   {
    "duration": 42,
    "start_time": "2025-03-29T11:00:17.570Z"
   },
   {
    "duration": 53,
    "start_time": "2025-03-29T11:00:17.613Z"
   },
   {
    "duration": 41,
    "start_time": "2025-03-29T11:00:17.668Z"
   },
   {
    "duration": 12,
    "start_time": "2025-03-29T11:00:17.710Z"
   },
   {
    "duration": 45,
    "start_time": "2025-03-29T11:00:17.726Z"
   },
   {
    "duration": 1111,
    "start_time": "2025-03-29T11:00:17.773Z"
   },
   {
    "duration": 25,
    "start_time": "2025-03-29T11:00:18.885Z"
   },
   {
    "duration": 1006,
    "start_time": "2025-03-29T11:00:18.912Z"
   },
   {
    "duration": 24,
    "start_time": "2025-03-29T11:00:19.920Z"
   },
   {
    "duration": 1123,
    "start_time": "2025-03-29T11:00:19.946Z"
   },
   {
    "duration": 10,
    "start_time": "2025-03-29T11:00:21.070Z"
   },
   {
    "duration": 30,
    "start_time": "2025-03-29T11:00:21.082Z"
   },
   {
    "duration": 1095,
    "start_time": "2025-03-29T11:00:21.114Z"
   },
   {
    "duration": 1113,
    "start_time": "2025-03-29T11:00:22.211Z"
   },
   {
    "duration": 299,
    "start_time": "2025-03-29T11:00:23.326Z"
   },
   {
    "duration": 12,
    "start_time": "2025-03-29T11:00:23.627Z"
   },
   {
    "duration": 19,
    "start_time": "2025-03-29T11:00:23.641Z"
   },
   {
    "duration": 15,
    "start_time": "2025-03-29T11:00:23.662Z"
   },
   {
    "duration": 9,
    "start_time": "2025-03-29T11:00:23.679Z"
   },
   {
    "duration": 6,
    "start_time": "2025-03-29T11:00:23.689Z"
   },
   {
    "duration": 4573,
    "start_time": "2025-03-29T11:00:23.697Z"
   },
   {
    "duration": 7,
    "start_time": "2025-03-29T11:00:28.271Z"
   },
   {
    "duration": 27,
    "start_time": "2025-03-29T11:00:28.279Z"
   },
   {
    "duration": 157,
    "start_time": "2025-03-29T11:00:28.308Z"
   },
   {
    "duration": 4602,
    "start_time": "2025-03-29T11:00:28.467Z"
   },
   {
    "duration": 6,
    "start_time": "2025-03-29T11:00:33.071Z"
   },
   {
    "duration": 44,
    "start_time": "2025-03-29T11:00:33.078Z"
   },
   {
    "duration": 165,
    "start_time": "2025-03-29T11:00:33.124Z"
   },
   {
    "duration": 4483,
    "start_time": "2025-03-29T11:00:33.291Z"
   },
   {
    "duration": 6,
    "start_time": "2025-03-29T11:00:37.776Z"
   },
   {
    "duration": 17,
    "start_time": "2025-03-29T11:00:37.784Z"
   },
   {
    "duration": 5,
    "start_time": "2025-03-29T11:00:37.866Z"
   },
   {
    "duration": 21,
    "start_time": "2025-03-29T11:00:37.963Z"
   },
   {
    "duration": 188,
    "start_time": "2025-03-29T11:00:37.985Z"
   },
   {
    "duration": 202,
    "start_time": "2025-03-29T11:00:38.174Z"
   },
   {
    "duration": 199,
    "start_time": "2025-03-29T11:00:38.378Z"
   },
   {
    "duration": 4,
    "start_time": "2025-03-29T11:00:38.578Z"
   },
   {
    "duration": 79,
    "start_time": "2025-03-29T11:00:38.583Z"
   },
   {
    "duration": 25,
    "start_time": "2025-03-29T11:00:38.663Z"
   },
   {
    "duration": 27,
    "start_time": "2025-03-29T11:00:38.689Z"
   },
   {
    "duration": 14,
    "start_time": "2025-03-29T11:00:38.717Z"
   },
   {
    "duration": 20273,
    "start_time": "2025-03-29T11:00:38.732Z"
   },
   {
    "duration": 20719,
    "start_time": "2025-03-29T11:00:59.007Z"
   },
   {
    "duration": 20253,
    "start_time": "2025-03-29T11:01:19.728Z"
   },
   {
    "duration": 6,
    "start_time": "2025-03-29T11:01:39.983Z"
   },
   {
    "duration": 23104,
    "start_time": "2025-03-29T11:01:39.990Z"
   },
   {
    "duration": 22446,
    "start_time": "2025-03-29T11:02:03.096Z"
   },
   {
    "duration": 22306,
    "start_time": "2025-03-29T11:02:25.544Z"
   },
   {
    "duration": 5,
    "start_time": "2025-03-29T11:03:37.395Z"
   },
   {
    "duration": 1232,
    "start_time": "2025-03-29T11:04:47.862Z"
   },
   {
    "duration": 1216,
    "start_time": "2025-03-29T11:04:49.096Z"
   },
   {
    "duration": 1191,
    "start_time": "2025-03-29T11:04:50.314Z"
   },
   {
    "duration": 5459,
    "start_time": "2025-03-29T11:06:23.890Z"
   },
   {
    "duration": 2235,
    "start_time": "2025-03-29T11:06:29.351Z"
   },
   {
    "duration": 1221,
    "start_time": "2025-03-29T11:06:31.587Z"
   },
   {
    "duration": 13,
    "start_time": "2025-03-29T11:06:32.809Z"
   },
   {
    "duration": 18,
    "start_time": "2025-03-29T11:06:32.825Z"
   },
   {
    "duration": 19,
    "start_time": "2025-03-29T11:06:32.845Z"
   },
   {
    "duration": 31,
    "start_time": "2025-03-29T11:06:32.866Z"
   },
   {
    "duration": 16,
    "start_time": "2025-03-29T11:06:32.898Z"
   },
   {
    "duration": 15,
    "start_time": "2025-03-29T11:06:32.915Z"
   },
   {
    "duration": 67,
    "start_time": "2025-03-29T11:06:32.931Z"
   },
   {
    "duration": 41,
    "start_time": "2025-03-29T11:06:33.000Z"
   },
   {
    "duration": 62,
    "start_time": "2025-03-29T11:06:33.042Z"
   },
   {
    "duration": 14,
    "start_time": "2025-03-29T11:06:33.105Z"
   },
   {
    "duration": 51,
    "start_time": "2025-03-29T11:06:33.123Z"
   },
   {
    "duration": 1213,
    "start_time": "2025-03-29T11:06:33.177Z"
   },
   {
    "duration": 25,
    "start_time": "2025-03-29T11:06:34.392Z"
   },
   {
    "duration": 1024,
    "start_time": "2025-03-29T11:06:34.420Z"
   },
   {
    "duration": 36,
    "start_time": "2025-03-29T11:06:35.445Z"
   },
   {
    "duration": 1144,
    "start_time": "2025-03-29T11:06:35.483Z"
   },
   {
    "duration": 9,
    "start_time": "2025-03-29T11:06:36.629Z"
   },
   {
    "duration": 58,
    "start_time": "2025-03-29T11:06:36.640Z"
   },
   {
    "duration": 1198,
    "start_time": "2025-03-29T11:06:36.700Z"
   },
   {
    "duration": 1191,
    "start_time": "2025-03-29T11:06:37.900Z"
   },
   {
    "duration": 321,
    "start_time": "2025-03-29T11:06:39.093Z"
   },
   {
    "duration": 14,
    "start_time": "2025-03-29T11:06:39.415Z"
   },
   {
    "duration": 59,
    "start_time": "2025-03-29T11:06:39.430Z"
   },
   {
    "duration": 32,
    "start_time": "2025-03-29T11:06:39.490Z"
   },
   {
    "duration": 64,
    "start_time": "2025-03-29T11:06:39.524Z"
   },
   {
    "duration": 38,
    "start_time": "2025-03-29T11:06:39.589Z"
   },
   {
    "duration": 3556,
    "start_time": "2025-03-29T11:06:39.629Z"
   },
   {
    "duration": 9,
    "start_time": "2025-03-29T11:06:43.264Z"
   },
   {
    "duration": 87,
    "start_time": "2025-03-29T11:06:43.276Z"
   },
   {
    "duration": 215,
    "start_time": "2025-03-29T11:06:43.367Z"
   },
   {
    "duration": 3498,
    "start_time": "2025-03-29T11:06:43.583Z"
   },
   {
    "duration": 6,
    "start_time": "2025-03-29T11:06:47.083Z"
   },
   {
    "duration": 88,
    "start_time": "2025-03-29T11:06:47.090Z"
   },
   {
    "duration": 301,
    "start_time": "2025-03-29T11:06:47.182Z"
   },
   {
    "duration": 3902,
    "start_time": "2025-03-29T11:06:47.485Z"
   },
   {
    "duration": 6,
    "start_time": "2025-03-29T11:06:51.389Z"
   },
   {
    "duration": 12,
    "start_time": "2025-03-29T11:06:51.397Z"
   },
   {
    "duration": 5,
    "start_time": "2025-03-29T11:06:51.466Z"
   },
   {
    "duration": 97,
    "start_time": "2025-03-29T11:06:51.474Z"
   },
   {
    "duration": 204,
    "start_time": "2025-03-29T11:06:51.574Z"
   },
   {
    "duration": 194,
    "start_time": "2025-03-29T11:06:51.780Z"
   },
   {
    "duration": 199,
    "start_time": "2025-03-29T11:06:51.976Z"
   },
   {
    "duration": 5,
    "start_time": "2025-03-29T11:06:52.176Z"
   },
   {
    "duration": 85,
    "start_time": "2025-03-29T11:06:52.182Z"
   },
   {
    "duration": 25,
    "start_time": "2025-03-29T11:06:52.269Z"
   },
   {
    "duration": 28,
    "start_time": "2025-03-29T11:06:52.296Z"
   },
   {
    "duration": 5,
    "start_time": "2025-03-29T11:06:52.326Z"
   },
   {
    "duration": 21469,
    "start_time": "2025-03-29T11:06:52.333Z"
   },
   {
    "duration": 21559,
    "start_time": "2025-03-29T11:07:13.804Z"
   },
   {
    "duration": 21554,
    "start_time": "2025-03-29T11:07:35.364Z"
   },
   {
    "duration": 1258,
    "start_time": "2025-03-29T11:07:56.920Z"
   },
   {
    "duration": 1200,
    "start_time": "2025-03-29T11:07:58.181Z"
   },
   {
    "duration": 1205,
    "start_time": "2025-03-29T11:07:59.383Z"
   },
   {
    "duration": 7779,
    "start_time": "2025-03-30T09:08:48.660Z"
   },
   {
    "duration": 2875,
    "start_time": "2025-03-30T09:08:56.441Z"
   },
   {
    "duration": 1462,
    "start_time": "2025-03-30T09:08:59.318Z"
   },
   {
    "duration": 14,
    "start_time": "2025-03-30T09:09:00.781Z"
   },
   {
    "duration": 8,
    "start_time": "2025-03-30T09:09:00.808Z"
   },
   {
    "duration": 25,
    "start_time": "2025-03-30T09:09:00.818Z"
   },
   {
    "duration": 24,
    "start_time": "2025-03-30T09:09:00.844Z"
   },
   {
    "duration": 21,
    "start_time": "2025-03-30T09:09:00.870Z"
   },
   {
    "duration": 29,
    "start_time": "2025-03-30T09:09:00.893Z"
   },
   {
    "duration": 55,
    "start_time": "2025-03-30T09:09:00.925Z"
   },
   {
    "duration": 46,
    "start_time": "2025-03-30T09:09:00.981Z"
   },
   {
    "duration": 41,
    "start_time": "2025-03-30T09:09:01.029Z"
   },
   {
    "duration": 14,
    "start_time": "2025-03-30T09:09:01.072Z"
   },
   {
    "duration": 25,
    "start_time": "2025-03-30T09:09:01.108Z"
   },
   {
    "duration": 1101,
    "start_time": "2025-03-30T09:09:01.134Z"
   },
   {
    "duration": 27,
    "start_time": "2025-03-30T09:09:02.236Z"
   },
   {
    "duration": 866,
    "start_time": "2025-03-30T09:09:02.264Z"
   },
   {
    "duration": 25,
    "start_time": "2025-03-30T09:09:03.132Z"
   },
   {
    "duration": 876,
    "start_time": "2025-03-30T09:09:03.159Z"
   },
   {
    "duration": 9,
    "start_time": "2025-03-30T09:09:04.037Z"
   },
   {
    "duration": 26,
    "start_time": "2025-03-30T09:09:04.047Z"
   },
   {
    "duration": 1132,
    "start_time": "2025-03-30T09:09:04.074Z"
   },
   {
    "duration": 1201,
    "start_time": "2025-03-30T09:09:05.208Z"
   },
   {
    "duration": 282,
    "start_time": "2025-03-30T09:09:06.410Z"
   },
   {
    "duration": 17,
    "start_time": "2025-03-30T09:09:06.693Z"
   },
   {
    "duration": 2,
    "start_time": "2025-03-30T09:09:06.711Z"
   },
   {
    "duration": 6,
    "start_time": "2025-03-30T09:09:06.715Z"
   },
   {
    "duration": 10,
    "start_time": "2025-03-30T09:09:06.722Z"
   },
   {
    "duration": 7,
    "start_time": "2025-03-30T09:09:06.733Z"
   },
   {
    "duration": 4576,
    "start_time": "2025-03-30T09:09:06.741Z"
   },
   {
    "duration": 7,
    "start_time": "2025-03-30T09:09:11.319Z"
   },
   {
    "duration": 10,
    "start_time": "2025-03-30T09:09:11.328Z"
   },
   {
    "duration": 173,
    "start_time": "2025-03-30T09:09:11.340Z"
   },
   {
    "duration": 4397,
    "start_time": "2025-03-30T09:09:11.515Z"
   },
   {
    "duration": 5,
    "start_time": "2025-03-30T09:09:15.914Z"
   },
   {
    "duration": 14,
    "start_time": "2025-03-30T09:09:15.921Z"
   },
   {
    "duration": 171,
    "start_time": "2025-03-30T09:09:15.937Z"
   },
   {
    "duration": 4401,
    "start_time": "2025-03-30T09:09:16.110Z"
   },
   {
    "duration": 6,
    "start_time": "2025-03-30T09:09:20.513Z"
   },
   {
    "duration": 9,
    "start_time": "2025-03-30T09:09:20.520Z"
   },
   {
    "duration": 4,
    "start_time": "2025-03-30T09:09:20.607Z"
   },
   {
    "duration": 99,
    "start_time": "2025-03-30T09:09:20.613Z"
   },
   {
    "duration": 214,
    "start_time": "2025-03-30T09:09:20.714Z"
   },
   {
    "duration": 186,
    "start_time": "2025-03-30T09:09:20.930Z"
   },
   {
    "duration": 207,
    "start_time": "2025-03-30T09:09:21.117Z"
   },
   {
    "duration": 4,
    "start_time": "2025-03-30T09:09:21.325Z"
   },
   {
    "duration": 30,
    "start_time": "2025-03-30T09:09:21.331Z"
   },
   {
    "duration": 48,
    "start_time": "2025-03-30T09:09:21.363Z"
   },
   {
    "duration": 24,
    "start_time": "2025-03-30T09:09:21.412Z"
   },
   {
    "duration": 5,
    "start_time": "2025-03-30T09:09:21.437Z"
   },
   {
    "duration": 19650,
    "start_time": "2025-03-30T09:09:21.443Z"
   },
   {
    "duration": 19973,
    "start_time": "2025-03-30T09:09:41.094Z"
   },
   {
    "duration": 19928,
    "start_time": "2025-03-30T09:10:01.068Z"
   },
   {
    "duration": 1097,
    "start_time": "2025-03-30T09:10:20.998Z"
   },
   {
    "duration": 1102,
    "start_time": "2025-03-30T09:10:22.097Z"
   },
   {
    "duration": 1082,
    "start_time": "2025-03-30T09:10:23.201Z"
   },
   {
    "duration": 7672,
    "start_time": "2025-03-30T20:03:32.257Z"
   },
   {
    "duration": 2078,
    "start_time": "2025-03-30T20:03:39.931Z"
   },
   {
    "duration": 852,
    "start_time": "2025-03-30T20:03:42.011Z"
   },
   {
    "duration": 26,
    "start_time": "2025-03-30T20:03:42.865Z"
   },
   {
    "duration": 50,
    "start_time": "2025-03-30T20:03:42.894Z"
   },
   {
    "duration": 9,
    "start_time": "2025-03-30T20:03:42.945Z"
   },
   {
    "duration": 14,
    "start_time": "2025-03-30T20:03:42.956Z"
   },
   {
    "duration": 20,
    "start_time": "2025-03-30T20:03:42.972Z"
   },
   {
    "duration": 97,
    "start_time": "2025-03-30T20:03:42.993Z"
   },
   {
    "duration": 43,
    "start_time": "2025-03-30T20:03:43.092Z"
   },
   {
    "duration": 53,
    "start_time": "2025-03-30T20:03:43.137Z"
   },
   {
    "duration": 38,
    "start_time": "2025-03-30T20:03:43.191Z"
   },
   {
    "duration": 13,
    "start_time": "2025-03-30T20:03:43.231Z"
   },
   {
    "duration": 47,
    "start_time": "2025-03-30T20:03:43.247Z"
   },
   {
    "duration": 1094,
    "start_time": "2025-03-30T20:03:43.296Z"
   },
   {
    "duration": 24,
    "start_time": "2025-03-30T20:03:44.392Z"
   },
   {
    "duration": 923,
    "start_time": "2025-03-30T20:03:44.417Z"
   },
   {
    "duration": 24,
    "start_time": "2025-03-30T20:03:45.341Z"
   },
   {
    "duration": 1070,
    "start_time": "2025-03-30T20:03:45.366Z"
   },
   {
    "duration": 9,
    "start_time": "2025-03-30T20:03:46.438Z"
   },
   {
    "duration": 43,
    "start_time": "2025-03-30T20:03:46.448Z"
   },
   {
    "duration": 1177,
    "start_time": "2025-03-30T20:03:46.493Z"
   },
   {
    "duration": 1214,
    "start_time": "2025-03-30T20:03:47.677Z"
   },
   {
    "duration": 317,
    "start_time": "2025-03-30T20:03:48.892Z"
   },
   {
    "duration": 14,
    "start_time": "2025-03-30T20:03:49.212Z"
   },
   {
    "duration": 62,
    "start_time": "2025-03-30T20:03:49.228Z"
   },
   {
    "duration": 11,
    "start_time": "2025-03-30T20:03:49.292Z"
   },
   {
    "duration": 5,
    "start_time": "2025-03-30T20:03:49.305Z"
   },
   {
    "duration": 15,
    "start_time": "2025-03-30T20:03:49.311Z"
   },
   {
    "duration": 3565,
    "start_time": "2025-03-30T20:03:49.327Z"
   },
   {
    "duration": 6,
    "start_time": "2025-03-30T20:03:52.893Z"
   },
   {
    "duration": 49,
    "start_time": "2025-03-30T20:03:52.900Z"
   },
   {
    "duration": 147,
    "start_time": "2025-03-30T20:03:52.952Z"
   },
   {
    "duration": 3888,
    "start_time": "2025-03-30T20:03:53.100Z"
   },
   {
    "duration": 6,
    "start_time": "2025-03-30T20:03:56.990Z"
   },
   {
    "duration": 107,
    "start_time": "2025-03-30T20:03:56.997Z"
   },
   {
    "duration": 185,
    "start_time": "2025-03-30T20:03:57.106Z"
   },
   {
    "duration": 3598,
    "start_time": "2025-03-30T20:03:57.293Z"
   },
   {
    "duration": 5,
    "start_time": "2025-03-30T20:04:00.893Z"
   },
   {
    "duration": 79,
    "start_time": "2025-03-30T20:04:00.899Z"
   },
   {
    "duration": 109,
    "start_time": "2025-03-30T20:04:00.982Z"
   },
   {
    "duration": 99,
    "start_time": "2025-03-30T20:04:01.093Z"
   },
   {
    "duration": 198,
    "start_time": "2025-03-30T20:04:01.194Z"
   },
   {
    "duration": 206,
    "start_time": "2025-03-30T20:04:01.394Z"
   },
   {
    "duration": 189,
    "start_time": "2025-03-30T20:04:01.602Z"
   },
   {
    "duration": 3,
    "start_time": "2025-03-30T20:04:01.799Z"
   },
   {
    "duration": 227,
    "start_time": "2025-03-30T20:04:01.804Z"
   },
   {
    "duration": 80,
    "start_time": "2025-03-30T20:04:02.033Z"
   },
   {
    "duration": 75,
    "start_time": "2025-03-30T20:04:02.115Z"
   },
   {
    "duration": 122,
    "start_time": "2025-03-30T20:04:02.192Z"
   },
   {
    "duration": 1589,
    "start_time": "2025-03-30T20:04:02.316Z"
   },
   {
    "duration": 1495,
    "start_time": "2025-03-30T20:04:03.906Z"
   },
   {
    "duration": 1503,
    "start_time": "2025-03-30T20:04:05.403Z"
   }
  ],
  "kaggle": {
   "accelerator": "none",
   "dataSources": [
    {
     "datasetId": 6889430,
     "sourceId": 11057843,
     "sourceType": "datasetVersion"
    }
   ],
   "dockerImageVersionId": 30918,
   "isGpuEnabled": false,
   "isInternetEnabled": false,
   "language": "python",
   "sourceType": "notebook"
  },
  "kernelspec": {
   "display_name": "Python 3 (ipykernel)",
   "language": "python",
   "name": "python3"
  },
  "language_info": {
   "codemirror_mode": {
    "name": "ipython",
    "version": 3
   },
   "file_extension": ".py",
   "mimetype": "text/x-python",
   "name": "python",
   "nbconvert_exporter": "python",
   "pygments_lexer": "ipython3",
   "version": "3.9.5"
  },
  "toc": {
   "base_numbering": 1,
   "nav_menu": {},
   "number_sections": true,
   "sideBar": true,
   "skip_h1_title": true,
   "title_cell": "Table of Contents",
   "title_sidebar": "Contents",
   "toc_cell": false,
   "toc_position": {
    "height": "calc(100% - 180px)",
    "left": "10px",
    "top": "150px",
    "width": "252.6px"
   },
   "toc_section_display": true,
   "toc_window_display": true
  }
 },
 "nbformat": 4,
 "nbformat_minor": 4
}
